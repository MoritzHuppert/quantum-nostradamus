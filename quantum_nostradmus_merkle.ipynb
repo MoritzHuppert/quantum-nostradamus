{
 "cells": [
  {
   "cell_type": "markdown",
   "id": "b27f6b68-9c5c-4236-9779-1059d85e1bed",
   "metadata": {
    "tags": []
   },
   "source": [
    "# Empirical Evaluation of the Quantum Nostradamus Attack on a Toy Hashfunction"
   ]
  },
  {
   "cell_type": "markdown",
   "id": "b555f299-4712-4d96-b739-247822c454d6",
   "metadata": {
    "tags": []
   },
   "source": [
    "## 1. Introduction"
   ]
  },
  {
   "cell_type": "markdown",
   "id": "ceaeae6b-456c-4f19-8cbe-e04c4d30d986",
   "metadata": {
    "tags": []
   },
   "source": [
    "This notebook empirically evaluates the quantum attacks proposed by Barbara Jiabao Benedikt in her work \"*Nostradamus-Angriff auf Hashfunktionen mittels Quantenalgorithmen*\" [[1]]() in the context of a toy hash function based on a Merkle-Damgård construction."
   ]
  },
  {
   "cell_type": "markdown",
   "id": "07ade9e8",
   "metadata": {},
   "source": [
    "Throughout this notebook, we use the Python SDK Qiskit for the implementation and execution of quantum circuits. Qiskit is beneficial due to the practical component this SDK provides. Next to the quantum computer simulations that we use in this notebook, Qiskit also provides access to real-world quantum computers. Even though these machines are relatively error-prone, a practical evaluation provides additional information on the practicability of a quantum attack. In contrast, competitors such as Google Cirq do currently not offer real-world execution but instead have different strengths, such as more complex operations for Quantum Machine Learning."
   ]
  },
  {
   "cell_type": "markdown",
   "id": "c53798f4-b6e2-4e76-982d-b80a8d8453a6",
   "metadata": {},
   "source": [
    "The rest of the notebook is organized as follows: In the first section (2), the toy hash function is presented and implemented in a quantum circuit. In contrast to a classical implementation, a quantum circuit of the function may give an attacker superposition access, which is required for the proposed attacks. A simple quantum attack with Grover's algorithm is implemented in section (3.1). The latter sections (3.2 and 3.3) document the implementation of the Nostradamus quantum attack and a further improved version of said algorithm. The evaluation of the algorithms is the topic of the final section (4) in this notebook. "
   ]
  },
  {
   "cell_type": "markdown",
   "id": "d4c3564a-91bf-484f-ad85-3b83896a5e53",
   "metadata": {},
   "source": [
    "## 2. A Quantum Toy Hash Function based on the Sponge Construction"
   ]
  },
  {
   "cell_type": "markdown",
   "id": "6a7d5647",
   "metadata": {},
   "source": [
    "To apply the proposed attack in [[1]]() on a hash function, the function needs to fulfill certain requirements:\n",
    "1. The hash function needs to be iterative. This is achieved securely with a Merkle-Damgård construction.\n",
    "2. The round or compression function of the hash function needs to have a (relatively small) finite domain to limit the number of qubits required for its simulation. Indeed, we could use up to at most ~30 qubits for any simulated quantum circuit.\n",
    "3. The round or compression function of the hash function needs to be \"well distributing\". This property is targeted by constructing the function with a simplified version of the Chacha permutation. Note that this method of construction is similar to the approach in [[2]](https://github.com/qiboteam/qibo/tree/master/examples/hash-grover)."
   ]
  },
  {
   "cell_type": "markdown",
   "id": "aaf9ec0e",
   "metadata": {},
   "source": [
    "### 2.1 Classical Construction of the Hash Toy Function"
   ]
  },
  {
   "cell_type": "markdown",
   "id": "6ad1f678",
   "metadata": {},
   "source": [
    "Due to the limitations of a quantum simulator with at max ~30 qubits, we construct the following reduced form of the cipher based on [[2]](https://github.com/qiboteam/qibo/tree/master/examples/hash-grover). But first, we provide some parameters for hash function manipulation and some performance metrics for the final evaluation."
   ]
  },
  {
   "cell_type": "code",
   "execution_count": 1,
   "id": "aa7f05be",
   "metadata": {},
   "outputs": [],
   "source": [
    "# constants for manipulating the toy hash function\n",
    "\n",
    "# size of a message and hash function (also B)\n",
    "# n % 2 == 0 && n >= 6\n",
    "n = 4\n",
    "\n",
    "# number of loops for each round function\n",
    "r = 10\n",
    "\n",
    "# register length \n",
    "reg_len = int(n/2)\n",
    "\n",
    "# length padding \n",
    "len_pad = True\n",
    "\n",
    "# ghost variables \n",
    "# counts the function calls \n",
    "ghost_cfunction_calls_round = 0\n",
    "ghost_qfunction_calls_round = 0\n",
    "ghost_qfunction_calls_fcol = 0\n",
    "ghost_qfunction_calls_fcon = 0\n",
    "# counts the number of times Grover's algorithm needs to be repeated\n",
    "ghost_grover_repititions = 0\n",
    "# counts of samples \n",
    "ghost_sampling = 0\n",
    "# time measurments\n",
    "ghost_pre_time = 0\n",
    "ghost_after_time = 0"
   ]
  },
  {
   "cell_type": "code",
   "execution_count": 2,
   "id": "46642f3f",
   "metadata": {},
   "outputs": [],
   "source": [
    "def ghost_init():\n",
    "     \"\"\"Resets all ghost variables.\"\"\"\n",
    "     global ghost_cfunction_calls_round, ghost_qfunction_calls_round, ghost_grover_repititions, ghost_qfunction_calls_fcol, ghost_qfunction_calls_fcon, ghost_sampling, ghost_pre_time, ghost_after_time\n",
    "     ghost_cfunction_calls_round = 0\n",
    "     ghost_qfunction_calls_round = 0\n",
    "     ghost_qfunction_calls_fcol = 0\n",
    "     ghost_qfunction_calls_fcon = 0\n",
    "     ghost_grover_repititions = 0\n",
    "     ghost_sampling = 0\n",
    "     ghost_pre_time = 0\n",
    "     ghost_after_time = 0"
   ]
  },
  {
   "cell_type": "code",
   "execution_count": 3,
   "id": "28f70229",
   "metadata": {},
   "outputs": [],
   "source": [
    "def print_ghost_variables():\n",
    "    \"\"\"This algorithm prints all the ghost variables from an attack.\n",
    "    \"\"\"\n",
    "    print(\"In the previous attack:\")\n",
    "    print(\"A hash function with size n={} and B={} was attacked.\".format(n, n))\n",
    "    print(\"The pre calculation took {} seconds.\".format(ghost_pre_time))\n",
    "    print(\"The after calculation took {} seconds.\".format(ghost_after_time))\n",
    "    print(\"Therefore the total took {} seconds.\".format(ghost_pre_time + ghost_after_time))\n",
    "    print(\"{} classical round function calls were required.\".format(ghost_cfunction_calls_round))\n",
    "    print(\"{} quantum round function calls were required.\".format(ghost_qfunction_calls_round))\n",
    "    print(\"{} quantum function calls to F_collision were required.\".format(ghost_qfunction_calls_fcol))\n",
    "    print(\"{} quantum function calls to F_connection were required.\".format(ghost_qfunction_calls_fcon))\n",
    "    print(\"{} Grover repitions were required.\".format(ghost_grover_repititions))\n",
    "    print(\"{} Values were sampled.\".format(ghost_sampling))"
   ]
  },
  {
   "cell_type": "markdown",
   "id": "2aaa7dd1",
   "metadata": {},
   "source": [
    "Next, we implement the reduced equivalent of a quarter round in the ChaCha permutation. The quarter round permutes the bits within two register (A and B) with xor, add and rotation operations. "
   ]
  },
  {
   "cell_type": "code",
   "execution_count": 4,
   "id": "4f566bf6",
   "metadata": {},
   "outputs": [],
   "source": [
    "from bitstring import BitArray\n",
    "\n",
    "def chacha_qr(A, B):\n",
    "    \"\"\"Classical implementation of a reduced Chacha quarter round\n",
    "    Args:\n",
    "        A (str): classical bitstring for a site of the permutation matrix.\n",
    "        B (str): classical bitstring for a site of the permutation matrix.     \n",
    "    Returns:\n",
    "        A (str): updated classical bitstring for a site of the permutation matrix.\n",
    "        B (str): updated classical bitstring for a site of the permutation matrix.\n",
    "    \"\"\"\n",
    "    # register length determines rotations \n",
    "    rot = list(range(1, reg_len))\n",
    "    rot += [1]\n",
    "\n",
    "    # iterations within one quarter round are dependent on list of rotations \n",
    "    for r in range(len(rot)):\n",
    "\n",
    "        sum_result = (A.uint + B.uint) % 2**reg_len\n",
    "        A = BitArray(uint=sum_result, length=reg_len)\n",
    "\n",
    "        # xor \n",
    "        B ^= A\n",
    "\n",
    "        # (cyclic) rotate B to the left\n",
    "        B.rol(rot[r])\n",
    "\n",
    "    return A, B"
   ]
  },
  {
   "cell_type": "markdown",
   "id": "4da873ff",
   "metadata": {},
   "source": [
    "Now, we construct the round function of our hash construction. Each round function applies the quarter rounds multiple times on every combination of registers (A, B, C, D) to permute the contained bits."
   ]
  },
  {
   "cell_type": "code",
   "execution_count": 5,
   "id": "bf7e2a52",
   "metadata": {},
   "outputs": [],
   "source": [
    "def chash_round(m, C, D):\n",
    "    \"\"\"Classical implementation of a reduced Chacha round function\n",
    "    Args:\n",
    "        m (BitString): classical bitstring for a message of size B.\n",
    "        A (str): classical bitstring for a site of the permutation matrix.\n",
    "        B (str): classical bitstring for a site of the permutation matrix.\n",
    "        C (str): classical bitstring for a site of the permutation matrix. \n",
    "        D (str): classical bitstring for a site of the permutation matrix.   \n",
    "    Returns:\n",
    "        D (str): updated classical bitstring for a site of the permutation matrix.\n",
    "    \"\"\"\n",
    "    global ghost_cfunction_calls_round\n",
    "    ghost_cfunction_calls_round = ghost_cfunction_calls_round + 1\n",
    "\n",
    "    A = BitArray(m[:reg_len])\n",
    "    B = BitArray(m[reg_len:2*reg_len])\n",
    "\n",
    "    # round function\n",
    "    for i in range(r):\n",
    "        A, C = chacha_qr(A, C)\n",
    "        B, D = chacha_qr(B, D)\n",
    "        A, D = chacha_qr(A, D)\n",
    "        B, C = chacha_qr(B, C)\n",
    "\n",
    "    # truncate all but C, D\n",
    "    return C, D"
   ]
  },
  {
   "cell_type": "markdown",
   "id": "31690144",
   "metadata": {},
   "source": [
    "And finally, we implement the complete (classical) hash algorithm for an arbitrary amount of rounds. Note that we optionally use a slighlty different form of length padding compared to SHA256, where 1 is followed by b zeros and a an encoding of the length |m|."
   ]
  },
  {
   "cell_type": "code",
   "execution_count": 6,
   "id": "27c322fd",
   "metadata": {},
   "outputs": [],
   "source": [
    "def chash(message, q=2, IV_1=1, IV_2=3, length_padding=True):\n",
    "    \"\"\"Calulates the hash according to a reduced ChaCha permutation and is based on the Sponge construction.\n",
    "    Args:\n",
    "        message (BitArray): message of arbitrary size (but modulo n) that is hashed.\n",
    "        q (int): number of bits in each bitstring.\n",
    "        IV_1 (int): IV for parameter b of hash function\n",
    "        IV_2 (int): IV for parameter c of hash function\n",
    "        length_padding (bool): length padding enabled?\n",
    "    Returns:\n",
    "       The hash of the message according to a reduced ChaCha permutation.\n",
    "    \"\"\"\n",
    "    # copy to prevent overwriting \n",
    "    message = BitArray(message)\n",
    "\n",
    "    # length padding \n",
    "    if length_padding:\n",
    "\n",
    "        # remember length mod n-1\n",
    "        m_len = len(message) % (n-1)\n",
    "\n",
    "        # append 1\n",
    "        message += BitArray(bin='1')\n",
    "\n",
    "        # calculate b\n",
    "        rest = (len(message) + 1 + (n-2)) % n\n",
    "        b = -rest % n\n",
    "        b = b + 1\n",
    "\n",
    "        # append b zeros \n",
    "        message += BitArray(bin=b*'0')\n",
    "\n",
    "        # append len\n",
    "        message += BitArray(bin=(n-2-m_len)*'0' + m_len *'1')  \n",
    "\n",
    "    # construct list of message blocks\n",
    "    message_blocks = list(message.cut(n))\n",
    "    \n",
    "    # create ChaCha parameters\n",
    "    a = BitArray(uint=0, length=reg_len)\n",
    "    b = BitArray(uint=0, length=reg_len)\n",
    "    c = BitArray(uint=0, length=reg_len)\n",
    "    d = BitArray(uint=0, length=reg_len)\n",
    "\n",
    "    # initalization message\n",
    "    c_init = BitArray(uint=IV_1, length=reg_len)\n",
    "    d_init = BitArray(uint=IV_2, length=reg_len)\n",
    "\n",
    "    m_init = d = BitArray(uint=0, length=n)\n",
    "\n",
    "    # first double round\n",
    "    # truncate a - b\n",
    "    c, d = chash_round(m_init, c_init, d_init)\n",
    "\n",
    "    # hash function optionally works for more blocks of messages\n",
    "    # truncate a - b\n",
    "    for m in message_blocks:\n",
    "\n",
    "            # next double round     \n",
    "            c, d = chash_round(m, c, d)\n",
    "    \n",
    "    # the hash is constructed from the concatenation of C and D\n",
    "    return c + d"
   ]
  },
  {
   "cell_type": "markdown",
   "id": "e9e62e0d",
   "metadata": {},
   "source": [
    "Let's test our classical construction on a bitstring."
   ]
  },
  {
   "cell_type": "code",
   "execution_count": 7,
   "id": "46796f98",
   "metadata": {},
   "outputs": [
    {
     "name": "stdout",
     "output_type": "stream",
     "text": [
      "H(1111) = 0101\n"
     ]
    }
   ],
   "source": [
    "binary = BitArray(bin=n*'1') \n",
    "print(\"H({}) = {}\".format(binary.bin, chash(binary, length_padding=len_pad).bin))"
   ]
  },
  {
   "cell_type": "markdown",
   "id": "08e2c145",
   "metadata": {},
   "source": [
    "... and a bitstring double the size."
   ]
  },
  {
   "cell_type": "code",
   "execution_count": 8,
   "id": "0f4c7858",
   "metadata": {},
   "outputs": [
    {
     "name": "stdout",
     "output_type": "stream",
     "text": [
      "H(11111111) = 1100\n"
     ]
    }
   ],
   "source": [
    "# concatenate binary\n",
    "double_binary = 2 * binary\n",
    "print(\"H({}) = {}\".format(double_binary.bin, chash(double_binary, length_padding=len_pad).bin))"
   ]
  },
  {
   "cell_type": "markdown",
   "id": "a75f6f99",
   "metadata": {},
   "source": [
    "And also let's test a bitstring for which length padding is required, if enabled."
   ]
  },
  {
   "cell_type": "code",
   "execution_count": 9,
   "id": "cc06ba94",
   "metadata": {},
   "outputs": [
    {
     "name": "stdout",
     "output_type": "stream",
     "text": [
      "H(11111) = 0010\n"
     ]
    }
   ],
   "source": [
    "if len_pad:\n",
    "    binary_pad = BitArray(bin=(n+1)*'1') \n",
    "    print(\"H({}) = {}\".format(binary_pad.bin, chash(binary_pad, length_padding=len_pad).bin))"
   ]
  },
  {
   "cell_type": "markdown",
   "id": "f111c4f3",
   "metadata": {},
   "source": [
    "### 2.2 Evaluation of the Regularity of the Toy Hash Function"
   ]
  },
  {
   "cell_type": "markdown",
   "id": "fc10b526",
   "metadata": {},
   "source": [
    "As mentioned before, the round function needs to achieve a good distribution. Indeed, a well-suited round function is regular: Every image has a similar number of preimages. The regularity of the round function can be evaluated by counting the number of inputs that map on each output."
   ]
  },
  {
   "cell_type": "code",
   "execution_count": 10,
   "id": "a1368a58",
   "metadata": {},
   "outputs": [
    {
     "name": "stdout",
     "output_type": "stream",
     "text": [
      "[3, 1, 0, 1, 2, 0, 2, 1, 1, 1, 0, 0, 1, 1, 1, 1]\n"
     ]
    }
   ],
   "source": [
    "# start of preimage calculation\n",
    "preimage_counts = [0] * 2**(n)\n",
    "\n",
    "# init IV\n",
    "c_bin = BitArray(bin=reg_len*'0')\n",
    "d_bin = BitArray(bin=reg_len*'0')\n",
    "\n",
    "# count the number of preimages for every image \n",
    "# for every message \n",
    "for m in range(2**n):\n",
    "    message = BitArray(uint=m, length=n)\n",
    "\n",
    "    c_n, d_n = chash_round(message, c_bin, d_bin)\n",
    "\n",
    "    res = c_n + d_n\n",
    "\n",
    "    preimage_counts[res.uint] = preimage_counts[res.uint] + 1\n",
    "\n",
    "print(preimage_counts)"
   ]
  },
  {
   "cell_type": "markdown",
   "id": "ba3837df",
   "metadata": {},
   "source": [
    "### 2.3 Quantum Construction of the Hash Toy Function"
   ]
  },
  {
   "cell_type": "markdown",
   "id": "55f38df0",
   "metadata": {},
   "source": [
    "Now that we constructed our classical hash function, we can transition to the quantum domain. For our attacks and specifically Grover's algorithm to work, we need to construct a circuit that enables function access in superposition (QS2). This can be achieved with the following design for a quantum quarter round."
   ]
  },
  {
   "cell_type": "code",
   "execution_count": 11,
   "id": "5f8d5e09",
   "metadata": {},
   "outputs": [
    {
     "data": {
      "image/png": "[encoded data removed]",
      "text/plain": [
       "<Figure size 861.494x264.88 with 1 Axes>"
      ]
     },
     "execution_count": 11,
     "metadata": {},
     "output_type": "execute_result"
    }
   ],
   "source": [
    "from qiskit import QuantumCircuit, QuantumRegister\n",
    "from qiskit.circuit.library.arithmetic.adders import DraperQFTAdder\n",
    "\n",
    "def construct_qr_gate(reg_len):\n",
    "    \"\"\"Construction of the Gate for the qr function. \n",
    "    Args:\n",
    "        n (int): size of a message and hash function (also B).    \n",
    "        reg_len (int): register length.   \n",
    "    Returns:\n",
    "        hash_gate (Quantum Gate): The Gate for the qr function.\n",
    "        img (Image): Image of the quantum circuit.\n",
    "    \"\"\" \n",
    "    ar_qr = QuantumRegister(reg_len, 'ar')\n",
    "    br_qr = QuantumRegister(reg_len, 'br')\n",
    "\n",
    "    # create a circuit\n",
    "    chacha_qqr = QuantumCircuit(br_qr, ar_qr)\n",
    "\n",
    "    # create adder (mod 2**n) gate\n",
    "    add_gate = DraperQFTAdder(reg_len).to_gate()\n",
    "\n",
    "    # register length determines rotations \n",
    "    rot = list(range(1, reg_len))\n",
    "    rot += [1]\n",
    "\n",
    "    # construct circuit\n",
    "    for r in range(len(rot)):\n",
    "\n",
    "        # append add gate\n",
    "        chacha_qqr.append(add_gate, [*range(2*reg_len)])\n",
    "\n",
    "        # append xor operation\n",
    "        chacha_qqr.cnot(ar_qr, br_qr)\n",
    "\n",
    "        # append rotation\n",
    "        for i in range(rot[r]):\n",
    "            for j in reversed(range(reg_len-1)):\n",
    "                chacha_qqr.swap(j+1,j)\n",
    "\n",
    "    # convert to quantum gate\n",
    "    qr_gate = chacha_qqr.to_gate(label='QR')\n",
    "\n",
    "    # draw circuit\n",
    "    img = chacha_qqr.draw(output='mpl', initial_state=True)\n",
    "\n",
    "    return qr_gate, img\n",
    "\n",
    "# application \n",
    "qr_gate, img = construct_qr_gate(reg_len)\n",
    "img"
   ]
  },
  {
   "cell_type": "markdown",
   "id": "197b20aa",
   "metadata": {},
   "source": [
    "Note that this circuit works exactly like our classical implementation of the quarter round. Next, let's assemble the quarter rounds to a quantum round function of the toy hash function."
   ]
  },
  {
   "cell_type": "code",
   "execution_count": 12,
   "id": "b098499a",
   "metadata": {},
   "outputs": [
    {
     "data": {
      "image/png": "[encoded data removed]",
      "text/plain": [
       "<Figure size 371.241x505.68 with 1 Axes>"
      ]
     },
     "execution_count": 12,
     "metadata": {},
     "output_type": "execute_result"
    }
   ],
   "source": [
    "def construct_round_gate(n, reg_len):\n",
    "    \"\"\"Construction of the Gate for the round function. \n",
    "    Args:\n",
    "        n (int): size of a message and hash function (also B).    \n",
    "        reg_len (int): register length.   \n",
    "    Returns:\n",
    "        hash_gate (Quantum Gate): The Gate for the round function.\n",
    "        img (Image): Image of the quantum circuit.\n",
    "    \"\"\" \n",
    "    a_qr = QuantumRegister(reg_len, 'a')\n",
    "    b_qr = QuantumRegister(reg_len, 'b')\n",
    "    c_qr = QuantumRegister(reg_len, 'c')\n",
    "    d_qr = QuantumRegister(reg_len, 'd')\n",
    "\n",
    "    # create a circuit for a double round\n",
    "    chacha_qdr = QuantumCircuit(d_qr, c_qr, b_qr, a_qr)\n",
    "\n",
    "    #A, C = chacha_qr(A, C)\n",
    "    chacha_qdr.append(qr_gate, list(c_qr) + list(a_qr))\n",
    "\n",
    "    #B, D = chacha_qr(B, D)\n",
    "    chacha_qdr.append(qr_gate, list(d_qr) + list(b_qr))\n",
    "\n",
    "    #A, D = chacha_qr(A, D)\n",
    "    chacha_qdr.append(qr_gate, list(d_qr) + list(a_qr))\n",
    "\n",
    "    #B, C = chacha_qr(B, C)\n",
    "    chacha_qdr.append(qr_gate, list(c_qr) + list(b_qr))\n",
    "\n",
    "    # convert to quantum gate\n",
    "    dr_gate = chacha_qdr.to_gate(label='DR')\n",
    "\n",
    "    # transfer in ten rounds\n",
    "    # apply ten rounds\n",
    "    chacha_qround = QuantumCircuit(d_qr, c_qr, b_qr, a_qr)\n",
    "\n",
    "    for i in range(r):\n",
    "        chacha_qround.append(dr_gate, chacha_qround.qubits)\n",
    "\n",
    "    round_gate = chacha_qround.to_gate(label='10_DR')\n",
    "\n",
    "    # draw circuit\n",
    "    img = chacha_qdr.draw(output='mpl', initial_state=True)\n",
    "\n",
    "    return round_gate, img\n",
    "\n",
    "# application \n",
    "round_gate, img = construct_round_gate(n, reg_len)\n",
    "img"
   ]
  },
  {
   "cell_type": "markdown",
   "id": "86820fe5",
   "metadata": {},
   "source": [
    "Once again, this implementation works just like the classical round function. We continue by constructing the whole hash function's circuit."
   ]
  },
  {
   "cell_type": "code",
   "execution_count": 13,
   "id": "02ab803d",
   "metadata": {},
   "outputs": [
    {
     "data": {
      "image/png": "[encoded data removed]",
      "text/plain": [
       "<Figure size 711.037x1348.48 with 1 Axes>"
      ]
     },
     "execution_count": 13,
     "metadata": {},
     "output_type": "execute_result"
    }
   ],
   "source": [
    "def construct_hash_gate(n, reg_len):\n",
    "    \"\"\"Construction of the Gate for the hash function. \n",
    "    Args:\n",
    "        n (int): size of a message and hash function (also B).    \n",
    "        reg_len (int): register length.   \n",
    "    Returns:\n",
    "        hash_gate (Quantum Gate): The Gate for the hash function.\n",
    "        img (Image): Image of the quantum circuit.\n",
    "    \"\"\" \n",
    "    a_qr = QuantumRegister(reg_len, 'a')\n",
    "    b_qr = QuantumRegister(reg_len, 'b')\n",
    "    c_qr = QuantumRegister(reg_len, 'c')\n",
    "    d_qr = QuantumRegister(reg_len, 'd')\n",
    "\n",
    "    m1_qr = QuantumRegister(n, 'm1')\n",
    "    m2_qr = QuantumRegister(n, 'm2')\n",
    "    mlen_qr = QuantumRegister(2, 'mlen')\n",
    "    messages = [m1_qr, m2_qr]\n",
    "\n",
    "    out = QuantumRegister(2*reg_len, 'out')\n",
    "\n",
    "    # create a circuit\n",
    "    chacha_hash_complete = QuantumCircuit(d_qr, c_qr, b_qr, a_qr, m1_qr, m2_qr, mlen_qr, out)\n",
    "    chacha_hash = QuantumCircuit(d_qr, c_qr, b_qr, a_qr, m1_qr, m2_qr, mlen_qr)\n",
    "\n",
    "    # init registers with constant_1=1, constant_2=3\n",
    "    # b = BitArray(uint=constant_1, length=reg_len)\n",
    "    IV_temp = BitArray(uint = 3, length=reg_len)\n",
    "    IV_temp.reverse()\n",
    "    for i, bit in enumerate(IV_temp):\n",
    "        if bit == 1:\n",
    "            chacha_hash.x(i)\n",
    "        \n",
    "    # c = BitArray(uint=constant_2, length=reg_len)\n",
    "    IV_temp = BitArray(uint = 1, length=reg_len)\n",
    "    IV_temp.reverse()\n",
    "    for i, bit in enumerate(IV_temp):\n",
    "        if bit == 1:\n",
    "            chacha_hash.x(i + reg_len)\n",
    "\n",
    "    # apply r rounds\n",
    "    input1 = QuantumCircuit(d_qr, c_qr, b_qr, a_qr)\n",
    "    chacha_hash.append(round_gate, input1.qubits)\n",
    "\n",
    "    # controlled gate for the optional rounds\n",
    "    round_gate_controlled = round_gate.control()\n",
    "\n",
    "    # sponge construction\n",
    "    for i, m in enumerate(messages):\n",
    "\n",
    "        if i == 0:\n",
    "            input_tmp = QuantumCircuit(d_qr, c_qr, m)\n",
    "            chacha_hash.append(round_gate, input_tmp.qubits)\n",
    "        else:\n",
    "           input_tmp = QuantumCircuit(d_qr, c_qr, m)\n",
    "           chacha_hash.append(round_gate_controlled, [mlen_qr[i-1]] + input_tmp.qubits)\n",
    "\n",
    "    chacha_hash_complete.append(chacha_hash, range(chacha_hash.num_qubits))\n",
    "    chacha_hash_inv = chacha_hash.inverse()\n",
    "\n",
    "    # copy qubits\n",
    "    dc_qr = QuantumCircuit(d_qr, c_qr)\n",
    "    chacha_hash_complete.cnot(dc_qr.qubits, out)\n",
    "\n",
    "    # invert\n",
    "    chacha_hash_complete.append(chacha_hash_inv, range(chacha_hash.num_qubits))\n",
    "    \n",
    "    # draw circuit\n",
    "    img = chacha_hash_complete.draw(output='mpl', initial_state=True)\n",
    "\n",
    "    # convert to quantum gate\n",
    "    chacha_hash_complete = chacha_hash_complete.decompose()\n",
    "    hash_gate = chacha_hash_complete.to_gate(label='hash')\n",
    "\n",
    "    return hash_gate, img\n",
    "\n",
    "# application \n",
    "hash_gate, img = construct_hash_gate(n, reg_len)\n",
    "img"
   ]
  },
  {
   "cell_type": "markdown",
   "id": "31476c46",
   "metadata": {},
   "source": [
    "#### 2.4 Testing of the Quantum Toy Hash Function"
   ]
  },
  {
   "cell_type": "markdown",
   "id": "df619407",
   "metadata": {},
   "source": [
    "Last but not least, we need to measure the outcome of the hash gate to verify its correctness. Ideally, it should return the exact hash for our two binary values of different sizes that our classical implementation returned previously. For this purpose, we construct two test circuits that test the outcome for each of the two values. Let's begin with the small value."
   ]
  },
  {
   "cell_type": "code",
   "execution_count": 14,
   "id": "e4e0aa40",
   "metadata": {},
   "outputs": [
    {
     "data": {
      "image/png": "[encoded data removed]",
      "text/plain": [
       "<Figure size 590.637x1408.68 with 1 Axes>"
      ]
     },
     "execution_count": 14,
     "metadata": {},
     "output_type": "execute_result"
    }
   ],
   "source": [
    "from qiskit import ClassicalRegister\n",
    "a_qr = QuantumRegister(reg_len, 'a')\n",
    "b_qr = QuantumRegister(reg_len, 'b')\n",
    "c_qr = QuantumRegister(reg_len, 'c')\n",
    "d_qr = QuantumRegister(reg_len, 'd')\n",
    "m1_qr = QuantumRegister(n, 'm1')\n",
    "m2_qr = QuantumRegister(n, 'm2')\n",
    "mlen_qr = QuantumRegister(2, 'mlen')\n",
    "out = QuantumRegister(2*reg_len, 'out')\n",
    "\n",
    "# construct a circuit for test purposes\n",
    "h_cr = ClassicalRegister(n, 'h_c')\n",
    "test_circuit_small = QuantumCircuit(d_qr, c_qr, b_qr, a_qr, m1_qr, m2_qr, mlen_qr, out, h_cr)\n",
    "\n",
    "# init m1: binary\n",
    "test_circuit_small.x(m1_qr)\n",
    "\n",
    "if len_pad:\n",
    "\n",
    "    # remember length mod n-1\n",
    "    m_len = n % (n-1)\n",
    "\n",
    "    # append 1\n",
    "    pad = BitArray(bin='1')\n",
    "\n",
    "    # calculate b\n",
    "    rest = (m_len + 1 + (n-2)) % n\n",
    "    b = -rest % n\n",
    "    b = b + 1\n",
    "\n",
    "    # append b zeros \n",
    "    pad += BitArray(bin=b*'0')\n",
    "\n",
    "    # append 4-bit len\n",
    "    pad += BitArray(bin=(n-2-m_len)*'0' + m_len *'1')  \n",
    "\n",
    "    IV_temp = BitArray(pad)\n",
    "    IV_temp.reverse()\n",
    "    for i, bit in enumerate(IV_temp):\n",
    "        if bit == 1:\n",
    "            test_circuit_small.x(m2_qr[i])\n",
    "\n",
    "    # init m_len\n",
    "    test_circuit_small.x(mlen_qr[0])\n",
    "\n",
    "# apply gate\n",
    "input_hash = QuantumCircuit(d_qr, c_qr, b_qr, a_qr, m1_qr, m2_qr, mlen_qr, out)\n",
    "test_circuit_small.append(hash_gate, input_hash.qubits)\n",
    "\n",
    "# measure outcome\n",
    "test_circuit_small.measure(out, h_cr)\n",
    "\n",
    "# draw circuit\n",
    "test_circuit_small.draw(output='mpl', initial_state=True)"
   ]
  },
  {
   "cell_type": "markdown",
   "id": "59201cf5",
   "metadata": {},
   "source": [
    "Let's begin a simulation."
   ]
  },
  {
   "cell_type": "code",
   "execution_count": 15,
   "id": "9a5ec849",
   "metadata": {},
   "outputs": [
    {
     "data": {
      "image/png": "[encoded data removed]",
      "text/plain": [
       "<Figure size 504x360 with 1 Axes>"
      ]
     },
     "execution_count": 15,
     "metadata": {},
     "output_type": "execute_result"
    }
   ],
   "source": [
    "from qiskit import Aer, execute\n",
    "from qiskit.tools.visualization import plot_histogram\n",
    "\n",
    "simulator = Aer.get_backend('qasm_simulator')\n",
    "\n",
    "result = execute(test_circuit_small, simulator, shots=2**n).result()\n",
    "counts = result.get_counts(test_circuit_small)\n",
    "plot_histogram(counts, title='Hash result for m=binary')"
   ]
  },
  {
   "cell_type": "markdown",
   "id": "2978837a",
   "metadata": {},
   "source": [
    "For comparison: "
   ]
  },
  {
   "cell_type": "code",
   "execution_count": 16,
   "id": "570c4fe3",
   "metadata": {},
   "outputs": [
    {
     "name": "stdout",
     "output_type": "stream",
     "text": [
      "H(1111) = 0101\n"
     ]
    }
   ],
   "source": [
    "print(\"H({}) = {}\".format(binary.bin, chash(binary, length_padding=len_pad).bin))"
   ]
  },
  {
   "cell_type": "markdown",
   "id": "96dc8c3f",
   "metadata": {},
   "source": [
    "Success!"
   ]
  },
  {
   "cell_type": "markdown",
   "id": "6245aa6d",
   "metadata": {},
   "source": [
    "Let's continue by testing our hash function on a value double the size. However, we will not test the length padding feature here and thus temporarily disable it for this test."
   ]
  },
  {
   "cell_type": "code",
   "execution_count": 17,
   "id": "01b4e27c",
   "metadata": {},
   "outputs": [
    {
     "data": {
      "image/png": "[encoded data removed]",
      "text/plain": [
       "<Figure size 590.637x1408.68 with 1 Axes>"
      ]
     },
     "execution_count": 17,
     "metadata": {},
     "output_type": "execute_result"
    }
   ],
   "source": [
    "from qiskit import ClassicalRegister\n",
    "# construct a circuit for test purposes\n",
    "test_circuit_big = QuantumCircuit(d_qr, c_qr, b_qr, a_qr, m1_qr, m2_qr, mlen_qr, out, h_cr)\n",
    "\n",
    "# init m1: binary\n",
    "test_circuit_big.x(m1_qr)\n",
    "\n",
    "# init m2: binary\n",
    "test_circuit_big.x(m2_qr)\n",
    "\n",
    "# init mlen: 1\n",
    "test_circuit_big.x(mlen_qr[0])\n",
    "\n",
    "# apply gate\n",
    "input_hash = QuantumCircuit(d_qr, c_qr, b_qr, a_qr, m1_qr, m2_qr, mlen_qr, out)\n",
    "test_circuit_big.append(hash_gate, input_hash.qubits)\n",
    "\n",
    "# measure outcome\n",
    "test_circuit_big.measure(out, h_cr)\n",
    "\n",
    "# draw circuit\n",
    "test_circuit_big.draw(output='mpl', initial_state=True)"
   ]
  },
  {
   "cell_type": "code",
   "execution_count": 18,
   "id": "0a0991ae",
   "metadata": {},
   "outputs": [
    {
     "data": {
      "image/png": "[encoded data removed]",
      "text/plain": [
       "<Figure size 504x360 with 1 Axes>"
      ]
     },
     "execution_count": 18,
     "metadata": {},
     "output_type": "execute_result"
    }
   ],
   "source": [
    "result = execute(test_circuit_big, simulator, shots=2**n).result()\n",
    "counts = result.get_counts(test_circuit_big)\n",
    "plot_histogram(counts, title='Hash result for m=binary binary')"
   ]
  },
  {
   "cell_type": "markdown",
   "id": "2cf39db4",
   "metadata": {},
   "source": [
    "For comparison: "
   ]
  },
  {
   "cell_type": "code",
   "execution_count": 19,
   "id": "4000aa0c",
   "metadata": {},
   "outputs": [
    {
     "name": "stdout",
     "output_type": "stream",
     "text": [
      "h*(11111111) = 1010\n"
     ]
    }
   ],
   "source": [
    "print(\"h*({}) = {}\".format(double_binary.bin, chash(double_binary, length_padding=False).bin))"
   ]
  },
  {
   "cell_type": "markdown",
   "id": "26b62762",
   "metadata": {},
   "source": [
    "### 2.5 Application of Grover on Toy Hash (Round) Function"
   ]
  },
  {
   "cell_type": "markdown",
   "id": "070fade0",
   "metadata": {},
   "source": [
    "We now apply Grover's algorithm on our toy round function for preimage search. This is mainly done to construct all the functionality required in the attacks of the next sections. "
   ]
  },
  {
   "cell_type": "markdown",
   "id": "1bc5b032",
   "metadata": {},
   "source": [
    "Grover's algorithm works in two steps: Phase-Flip and Diffusion. These two steps are repeated a total number of sqrt(N) times, where N is the size of the function's domain. So, in other words, the algorithm achieves a quadratic speedup against the best-known classical algorithm. Furthermore, it has been shown that the algorithm is optimal in the sense that any quantum algorithm would at least need sqrt(N) queries to solve the underlying search problem [[3]](https://doi.org/10.1137%2Fs0097539796300933). "
   ]
  },
  {
   "cell_type": "markdown",
   "id": "5aa954f5",
   "metadata": {},
   "source": [
    "<img src=\"https://upload.wikimedia.org/wikipedia/commons/b/b9/Grover%27s_algorithm_circuit.svg\" alt=\"drawing\" width=\"600\" />\n",
    "\n",
    "[Grover's Algorithm Circuit](https://upload.wikimedia.org/wikipedia/commons/b/b9/Grover%27s_algorithm_circuit.svg)"
   ]
  },
  {
   "cell_type": "markdown",
   "id": "cffc6035",
   "metadata": {},
   "source": [
    "The Phase-Flip operation works as follows."
   ]
  },
  {
   "cell_type": "markdown",
   "id": "1953fc5f",
   "metadata": {},
   "source": [
    "<img src=\"https://wikimedia.org/api/rest_v1/media/math/render/svg/07fb23bffa787430b084971c6a108a8f6ff6c2b3\" alt=\"drawing\" width=\"400\" />\n",
    "\n",
    "[Grover's Phase-Flip](https://wikimedia.org/api/rest_v1/media/math/render/svg/07fb23bffa787430b084971c6a108a8f6ff6c2b3)"
   ]
  },
  {
   "cell_type": "code",
   "execution_count": 20,
   "id": "9dc1f5da",
   "metadata": {},
   "outputs": [
    {
     "data": {
      "image/png": "[encoded data removed]",
      "text/plain": [
       "<Figure size 747.291x565.88 with 1 Axes>"
      ]
     },
     "execution_count": 20,
     "metadata": {},
     "output_type": "execute_result"
    }
   ],
   "source": [
    "kickback_qr = QuantumRegister(1, 'kick')\n",
    "\n",
    "def construct_flip_gate(H, IV):\n",
    "    \"\"\"Construction of the Phase Flip Operator for the chash_round function. \n",
    "    Args:\n",
    "        H (BitArray): classical bitstring of the image.  \n",
    "        IV (BitArray): classical bitstring that represents the IV of chash_round. \n",
    "    Returns:\n",
    "        flip_gate (Quantum Gate): Phase Flip Operator for chash_round.\n",
    "        img (Image): Image of the quantum circuit\n",
    "    \"\"\" \n",
    "    a_qr = QuantumRegister(reg_len, 'a')\n",
    "    b_qr = QuantumRegister(reg_len, 'b')\n",
    "    c_qr = QuantumRegister(reg_len, 'c')\n",
    "    d_qr = QuantumRegister(reg_len, 'd')\n",
    "\n",
    "    phase_flip = QuantumCircuit(d_qr, c_qr, b_qr, a_qr, kickback_qr)\n",
    "    phase_flip_side = QuantumCircuit(d_qr, c_qr, b_qr, a_qr, kickback_qr)\n",
    "\n",
    "    # initialize circuit according to IV\n",
    "    IV_temp = BitArray(IV)\n",
    "    IV_temp.reverse()\n",
    "    for i, bit in enumerate(IV_temp):\n",
    "        if bit == 1:\n",
    "            phase_flip_side.x(i)\n",
    "\n",
    "    # apply chash_round\n",
    "    input = QuantumCircuit(d_qr, c_qr, b_qr, a_qr)\n",
    "    phase_flip_side.append(round_gate, input.qubits)\n",
    "\n",
    "    # calculate specific controlled gate for preimage H\n",
    "    H_tmp = BitArray(H)\n",
    "    H_tmp.reverse()\n",
    "    for i, bit in enumerate(H_tmp):\n",
    "        if bit == 0:\n",
    "            phase_flip_side.x(i)\n",
    "    \n",
    "    # apply all above operations to quantum circuit\n",
    "    phase_flip.compose(phase_flip_side, inplace=True)\n",
    "\n",
    "    # phase flip multi-cnot\n",
    "    phase_flip.mct([*range(len(H))], kickback_qr)\n",
    "\n",
    "    # apply the inverse of all above operations to quantum circuit\n",
    "    phase_flip.compose(phase_flip_side.inverse(), inplace=True)\n",
    "\n",
    "    # draw circuit\n",
    "    img = phase_flip.draw(output='mpl', initial_state=True)\n",
    "\n",
    "    # convert to quantum gate\n",
    "    flip_gate = phase_flip.decompose().to_gate(label='chash_flip')\n",
    "\n",
    "    return flip_gate, img\n",
    "\n",
    "# application and illustration\n",
    "H = BitArray(bin=(n-2) *'0') + BitArray(bin='11')\n",
    "IV = BitArray(bin=(n-2) *'1') + BitArray(bin='10')\n",
    "flip_gate, img = construct_flip_gate(H, IV)\n",
    "img"
   ]
  },
  {
   "cell_type": "markdown",
   "id": "016b00fb",
   "metadata": {},
   "source": [
    "The Diffusion operator works as follows."
   ]
  },
  {
   "attachments": {},
   "cell_type": "markdown",
   "id": "a2ae92af",
   "metadata": {},
   "source": [
    "<img src=\"https://wikimedia.org/api/rest_v1/media/math/render/svg/8d124af089d740a5c0b2db6f6914af5805254773\" alt=\"drawing\" width=\"300\" />\n",
    "\n",
    "[Grover's Diffusion](https://wikimedia.org/api/rest_v1/media/math/render/svg/8d124af089d740a5c0b2db6f6914af5805254773)"
   ]
  },
  {
   "cell_type": "code",
   "execution_count": 21,
   "id": "3b39272d",
   "metadata": {},
   "outputs": [
    {
     "data": {
      "image/png": "[encoded data removed]",
      "text/plain": [
       "<Figure size 451.635x325.08 with 1 Axes>"
      ]
     },
     "execution_count": 21,
     "metadata": {},
     "output_type": "execute_result"
    }
   ],
   "source": [
    "def construct_diffusion_gate():\n",
    "    \"\"\"Construction of the Diffusion Operator for the chash_round function. \n",
    "    Returns:\n",
    "        diffusion_gate (Quantum Gate): Diffusion Operator for chash_round.\n",
    "        img (Image): Image of the quantum circuit\n",
    "    \"\"\" \n",
    "    m1_qr = QuantumRegister(n, 'm1')\n",
    "\n",
    "    diffusion_circuit = QuantumCircuit(m1_qr, kickback_qr)\n",
    "\n",
    "    # apply gates\n",
    "    diffusion_circuit.h([*range(diffusion_circuit.num_qubits-1)])\n",
    "    diffusion_circuit.x([*range(diffusion_circuit.num_qubits-1)])\n",
    "    diffusion_circuit.mct([*range(diffusion_circuit.num_qubits-1)], kickback_qr)\n",
    "    diffusion_circuit.x([*range(diffusion_circuit.num_qubits-1)])\n",
    "    diffusion_circuit.h([*range(diffusion_circuit.num_qubits-1)])\n",
    "\n",
    "    # convert to quantum gate\n",
    "    diffusion_gate = diffusion_circuit.to_gate(label='diff')\n",
    "\n",
    "    # draw circuit\n",
    "    img = diffusion_circuit.draw(output='mpl', initial_state=True)\n",
    "\n",
    "    return diffusion_gate, img\n",
    "\n",
    "# application and illustration\n",
    "diffusion_gate, img = construct_diffusion_gate()\n",
    "img "
   ]
  },
  {
   "cell_type": "markdown",
   "id": "82145349",
   "metadata": {},
   "source": [
    "Eventually, we implement the complete circuit and start a simulation."
   ]
  },
  {
   "cell_type": "code",
   "execution_count": 22,
   "id": "b96dc3b0",
   "metadata": {},
   "outputs": [
    {
     "data": {
      "image/png": "[encoded data removed]",
      "text/plain": [
       "<Figure size 933.81x626.08 with 1 Axes>"
      ]
     },
     "execution_count": 22,
     "metadata": {},
     "output_type": "execute_result"
    }
   ],
   "source": [
    "from math import sqrt, pi\n",
    "res_qr = QuantumRegister(1, \"res\")\n",
    "\n",
    "def construct_grover_circuit(flip_gate, diffusion_gate, N):\n",
    "    \"\"\"Construction of the Grover algorithm's circuit for a specific Flip and Diffusion gate. \n",
    "    Args:\n",
    "        flip_gate (Quantum Gate): Phase Flip Operator for Grover's algorithm. \n",
    "        diffusion_gate (Quantum): Diffusion Flip Operator for Grover's algorithm.   \n",
    "        N (int): Size of the domain of the function on which Grover's algorithm is applied.   \n",
    "    Returns:\n",
    "        grover_circuit (Quantum Circuit): Grover algorithm's circuit.\n",
    "    \"\"\" \n",
    "    pre_im = ClassicalRegister(n, 'pre_im')\n",
    "    a_qr = QuantumRegister(reg_len, 'a')\n",
    "    b_qr = QuantumRegister(reg_len, 'b')\n",
    "    c_qr = QuantumRegister(reg_len, 'c')\n",
    "    d_qr = QuantumRegister(reg_len, 'd')\n",
    "\n",
    "\n",
    "    # Grover's algorithm works for both: F1 and the chash_round function \n",
    "    # Both have a different amount of qubits:\n",
    "    # top case is chash round\n",
    "    if flip_gate.label == 'chash_flip':\n",
    "        grover_circuit = QuantumCircuit(d_qr, c_qr, b_qr, a_qr, kickback_qr, pre_im)\n",
    "        grover_round = QuantumCircuit(d_qr, c_qr, b_qr, a_qr, kickback_qr)\n",
    "    else: \n",
    "        grover_circuit = QuantumCircuit(d_qr, c_qr, b_qr, a_qr, res_qr, kickback_qr, pre_im)\n",
    "        grover_round = QuantumCircuit(d_qr, c_qr, b_qr, a_qr, res_qr, kickback_qr)\n",
    "\n",
    "    # init kickback\n",
    "    grover_circuit.x(kickback_qr)\n",
    "    grover_circuit.barrier()\n",
    "\n",
    "    # init state\n",
    "    message_kick = QuantumCircuit(b_qr, a_qr, kickback_qr)\n",
    "    message = QuantumCircuit(b_qr, a_qr)\n",
    "    grover_circuit.h(message_kick.qubits)\n",
    "\n",
    "    # create Grover round\n",
    "    if flip_gate.label == 'chash_flip':\n",
    "        all = QuantumCircuit(d_qr, c_qr, b_qr, a_qr, kickback_qr)\n",
    "        grover_round.append(flip_gate, all.qubits)\n",
    "        grover_round.append(diffusion_gate, message_kick.qubits)\n",
    "    else:\n",
    "        all = QuantumCircuit(d_qr, c_qr, b_qr, a_qr, res_qr, kickback_qr)\n",
    "        grover_round.append(flip_gate, all.qubits)\n",
    "        grover_round.append(diffusion_gate, message_kick.qubits)\n",
    "\n",
    "    # repeat\n",
    "    # https://docs.microsoft.com/en-us/azure/quantum/concepts-grovers\n",
    "    repeats = int(pi/4 * sqrt(N) - 1/2)\n",
    "        \n",
    "    for i in range(repeats):\n",
    "        grover_circuit.compose(grover_round, inplace=True)\n",
    "\n",
    "    # measure outcome\n",
    "    grover_circuit.measure(message.qubits, pre_im)\n",
    "\n",
    "    return grover_circuit\n",
    "\n",
    "# application and illustration\n",
    "grover_circuit = construct_grover_circuit(flip_gate, diffusion_gate, 2**n)\n",
    "grover_circuit.draw(output='mpl', initial_state=True)"
   ]
  },
  {
   "cell_type": "markdown",
   "id": "babdca1b",
   "metadata": {},
   "source": [
    "### 2.6 Tesing of Grover's algorithm on Toy Hash (Round) Function"
   ]
  },
  {
   "cell_type": "code",
   "execution_count": 23,
   "id": "33ceea3a",
   "metadata": {},
   "outputs": [
    {
     "name": "stdout",
     "output_type": "stream",
     "text": [
      "The result of Grover is 1011.\n"
     ]
    }
   ],
   "source": [
    "grover_circuit_up = construct_grover_circuit(flip_gate, diffusion_gate, 2**n)\n",
    "result = execute(grover_circuit_up, simulator, shots=2**n).result()\n",
    "counts = result.get_counts(grover_circuit_up)\n",
    "\n",
    "# get t|he most frequent result\n",
    "most_frequent = max(zip(counts.values(), counts.keys()))[1]\n",
    "\n",
    "print(\"The result of Grover is {}.\".format(most_frequent))  "
   ]
  },
  {
   "cell_type": "markdown",
   "id": "1c900c21",
   "metadata": {},
   "source": [
    "For verification (we searched the preimage of H=0..011 with IV=1..110): "
   ]
  },
  {
   "cell_type": "code",
   "execution_count": 24,
   "id": "06240098",
   "metadata": {},
   "outputs": [
    {
     "name": "stdout",
     "output_type": "stream",
     "text": [
      "h(1011, 1110) = 0011\n"
     ]
    }
   ],
   "source": [
    "# IV init\n",
    "c = IV[:reg_len]\n",
    "d = IV[reg_len:2*reg_len]\n",
    "\n",
    "# m init\n",
    "m = BitArray(bin=most_frequent)\n",
    "\n",
    "c, d = chash_round(m,c,d)\n",
    "hash = c + d\n",
    "\n",
    "print(\"h({}, {}) = {}\".format(m.bin, IV.bin, hash.bin))"
   ]
  },
  {
   "cell_type": "markdown",
   "id": "5b5ff785",
   "metadata": {},
   "source": [
    "Success! For further reference check out [[4]](https://cnot.io/quantum_algorithms/grover/grovers_algorithm.html)."
   ]
  },
  {
   "cell_type": "markdown",
   "id": "6872ca5f",
   "metadata": {},
   "source": [
    "## 3. Nostradamus Attack on Toy Hashfunction"
   ]
  },
  {
   "cell_type": "markdown",
   "id": "faef7dcb",
   "metadata": {},
   "source": [
    "### 3.1 The Simple Attack"
   ]
  },
  {
   "cell_type": "markdown",
   "id": "98f8a92f",
   "metadata": {},
   "source": [
    "Let's begin with the simplest attack presented in the paper [[1]](). An adversary publishes a hash value h before an event occurs. The goal of the adversary is to make it seem like he knew the outcome of the event before it occured. Thus, he publishes a \"prophecy\" P afterwards, such that the prophecy contains a description of the correct outcome and, when provided as input to the hash function, results in the previously published hash. He argues that the published hash is proof for his knowledge of the future. One simple way of achieving this goal is with Grover's algorithm."
   ]
  },
  {
   "cell_type": "code",
   "execution_count": 25,
   "id": "8affe974",
   "metadata": {},
   "outputs": [],
   "source": [
    "def is_correct(m, y, H_list):\n",
    "    y1 = y[:reg_len]\n",
    "    y2 = y[reg_len:2*reg_len]\n",
    "    c, d = chash_round(m, y1, y2)\n",
    "    return c+d in H_list"
   ]
  },
  {
   "cell_type": "code",
   "execution_count": 26,
   "id": "c79a341b",
   "metadata": {},
   "outputs": [],
   "source": [
    "def Grover(flip_gate, domain, y, H_list, measurement=''):\n",
    "    \"\"\"Implementation of Grover's algorithm for the chash_round function or F1. \n",
    "    Args: \n",
    "        flip_gate (Quantum Gate): Flip Gate of the specific function.  \n",
    "        domain (int): the size of the domain divided by t. \n",
    "        measurment (str): specifies the type of measurement: collision (within diamond creation)\n",
    "            or connection (within after_calculation).\n",
    "    Returns:\n",
    "        m (BitArray): classical bitstring of the preimage.\n",
    "    \"\"\"\n",
    "    global ghost_grover_repititions, ghost_qfunction_calls_round, ghost_qfunction_calls_fcon, ghost_qfunction_calls_fcol\n",
    "\n",
    "    # construct Grover's circuit \n",
    "    diffusion_gate, _ = construct_diffusion_gate()\n",
    "\n",
    "    # init\n",
    "    res = BitArray(uint=0, length = n)\n",
    "    counter = 1\n",
    "    repeats = int(pi/4 * sqrt(domain) - 1/2)\n",
    "    \n",
    "    # error\n",
    "    if repeats==0:\n",
    "        print(\"Grover's algorithm | Grover can not solve this task as the optimal repeats are 0.\")\n",
    "        raise Exception(\"Grover's algorithm | Grover can not solve this task as the optimal repeats are 0.\")\n",
    "        \n",
    "    grover_circuit = construct_grover_circuit(flip_gate, diffusion_gate, domain)\n",
    "\n",
    "    while counter<2 or (not is_correct(res, y, H_list)):\n",
    "\n",
    "        print(\"Grover's algorithm | Starting Grover try {} with repeats={}.\".format(counter, repeats))\n",
    "\n",
    "        # simulate Grover's algorithm\n",
    "        result = execute(grover_circuit, simulator, shots=2**n).result()\n",
    "        counts = result.get_counts(grover_circuit)\n",
    "\n",
    "        # get the most frequent result\n",
    "        most_frequent = max(zip(counts.values(), counts.keys()))[1]\n",
    "        res = BitArray(bin=most_frequent)\n",
    "        print(\"Grover's algorithm | Finishing Grover try {}, found m={}.\".format(counter, res.bin))\n",
    "\n",
    "        if flip_gate.label == 'chash_flip':\n",
    "            ghost_qfunction_calls_round += repeats\n",
    "        elif measurement=='collision':\n",
    "            ghost_qfunction_calls_fcol += repeats\n",
    "        else:\n",
    "            ghost_qfunction_calls_fcon += repeats\n",
    "            \n",
    "        if counter > 1:\n",
    "            ghost_grover_repititions += 1\n",
    "\n",
    "        counter = counter + 1\n",
    "\n",
    "    return res"
   ]
  },
  {
   "cell_type": "markdown",
   "id": "531cb544",
   "metadata": {},
   "source": [
    "A complete attack with Grover's algorithm works as follows."
   ]
  },
  {
   "cell_type": "code",
   "execution_count": 27,
   "id": "63c358a6",
   "metadata": {},
   "outputs": [],
   "source": [
    "import time\n",
    "\n",
    "def grover_attack(P, H):\n",
    "    \"\"\"Implementation of the preimage attack using Grover's algorithm.\n",
    "    Args:\n",
    "        P (BitArray): classical bitstring for the prophecy.\n",
    "        H (BitArray): classical bitstring for the published hash.  \n",
    "    Returns:\n",
    "        P' (BitArray): classical bitstring for the prophecy, filled with zeros.\n",
    "        m (BitArray): classical bitstring such that H(P||m) = H, where P was filled with 0 until B.\n",
    "    \"\"\"\n",
    "    print(\"Step 0 | Starting Grover Attack for P =\", P.bin, \"and H =\", H.bin)\n",
    "    ghost_init()\n",
    "\n",
    "    # time measurment \n",
    "    global ghost_after_time\n",
    "    ghost_after_time = time.time()\n",
    "\n",
    "    # Step 1 | fill P with zero's \n",
    "    while len(P) % n != 0:\n",
    "        P = P + BitArray(bin='0')\n",
    "    print(\"Step 1 | P filled with zeros:\", P.bin)\n",
    "\n",
    "    # Step 2 | classically calculate the last h-Evaluation of P\n",
    "    p = chash(P, length_padding=False)\n",
    "    print(\"Step 2 | Last h-Evaluation of P calculated p =\", p.bin)\n",
    "\n",
    "    # Step 3 | use Grover's algorithm to calculate a preimage m such that chash_round(m, p) = H\n",
    "    print(\"Step 3 | Starting Grover's algorithm to find a preimage m such that chash_round(m, p) = H\")\n",
    "    flip_gate, _ = construct_flip_gate(H, p)\n",
    "    m = Grover(flip_gate, 2**n, p, [H])\n",
    "    print(\"Step 3 | Grover returns m =\", m.bin)\n",
    "\n",
    "    # time measurment \n",
    "    ghost_after_time = time.time() - ghost_after_time\n",
    "\n",
    "    return P, m"
   ]
  },
  {
   "cell_type": "markdown",
   "id": "5f323485",
   "metadata": {},
   "source": [
    "Let's test this simple attack for a specific prophecy. Note that the parameter H can be freely chosen by the adversary. However, H is not the value which is returned by the hash function when length padding is enabled. In this case, we can precaulcute the real hash H' from H with a simple function that precalculates the length padding."
   ]
  },
  {
   "cell_type": "code",
   "execution_count": 28,
   "id": "5939cc49",
   "metadata": {},
   "outputs": [],
   "source": [
    "# construct parameters \n",
    "P = BitArray(bin='100101110')\n",
    "H = BitArray(bin=n*'1')"
   ]
  },
  {
   "cell_type": "code",
   "execution_count": 29,
   "id": "1696c0a9",
   "metadata": {},
   "outputs": [
    {
     "name": "stdout",
     "output_type": "stream",
     "text": [
      "The real hash value will be H' = 0101\n"
     ]
    }
   ],
   "source": [
    "from math import ceil\n",
    "\n",
    "def precalculate_hash(P, H, num_blocks):\n",
    "    \"\"\"Precalculate hash for P if num_blocks are appended and length padding is used. \n",
    "    Args:\n",
    "        P (BitArray): The unextended prophecy.   \n",
    "        H (BitArray): The hash goal.\n",
    "        num_blocks (int): The number of blocks which will be concatenated to P.   \n",
    "    Returns:\n",
    "        real_H (BitArray): The resulting hash value.\n",
    "    \"\"\" \n",
    "    # precalc P_len\n",
    "    P_len = ceil(len(P) / n) * n\n",
    "\n",
    "    # precalc final prophecy_len\n",
    "    fP_len = P_len + num_blocks * n\n",
    "\n",
    "    # combine\n",
    "    pad_len = fP_len % (n-1)\n",
    "\n",
    "    # calculate b\n",
    "    rest = (1 + (n-2)) % n\n",
    "    b = -rest % n\n",
    "\n",
    "    # precalc padding \n",
    "    padding = BitArray(bin='1' + b * '0' + (n-2-pad_len) * '0' + pad_len * '1')\n",
    "\n",
    "    # precalculate hash\n",
    "    c, d = chash_round(padding, H[:reg_len], H[reg_len:])\n",
    "    real_H = c + d\n",
    "\n",
    "    return real_H\n",
    "\n",
    "# precalculate real hash H'\n",
    "if len_pad:\n",
    "    real_H = precalculate_hash(P, H, 1) \n",
    "\n",
    "    print(\"The real hash value will be H' =\", real_H.bin)"
   ]
  },
  {
   "cell_type": "code",
   "execution_count": 30,
   "id": "12ff2b83",
   "metadata": {},
   "outputs": [
    {
     "name": "stdout",
     "output_type": "stream",
     "text": [
      "Step 0 | Starting Grover Attack for P = 100101110 and H = 1111\n",
      "Step 1 | P filled with zeros: 100101110000\n",
      "Step 2 | Last h-Evaluation of P calculated p = 1101\n",
      "Step 3 | Starting Grover's algorithm to find a preimage m such that chash_round(m, p) = H\n",
      "Grover's algorithm | Starting Grover try 1 with repeats=2.\n",
      "Grover's algorithm | Finishing Grover try 1, found m=1111.\n",
      "Step 3 | Grover returns m = 1111\n"
     ]
    }
   ],
   "source": [
    "# attack\n",
    "P, m = grover_attack(P, H)"
   ]
  },
  {
   "cell_type": "markdown",
   "id": "31a7ce1f",
   "metadata": {},
   "source": [
    "In the process we used the following ressources."
   ]
  },
  {
   "cell_type": "code",
   "execution_count": 31,
   "id": "864bb7f4",
   "metadata": {},
   "outputs": [
    {
     "name": "stdout",
     "output_type": "stream",
     "text": [
      "In the previous attack:\n",
      "A hash function with size n=4 and B=4 was attacked.\n",
      "The pre calculation took 0 seconds.\n",
      "The after calculation took 6.762704133987427 seconds.\n",
      "Therefore the total took 6.762704133987427 seconds.\n",
      "5 classical round function calls were required.\n",
      "2 quantum round function calls were required.\n",
      "0 quantum function calls to F_collision were required.\n",
      "0 quantum function calls to F_connection were required.\n",
      "0 Grover repitions were required.\n",
      "0 Values were sampled.\n"
     ]
    }
   ],
   "source": [
    "print_ghost_variables()"
   ]
  },
  {
   "cell_type": "markdown",
   "id": "2147c408",
   "metadata": {},
   "source": [
    "Let's check if the results are correct! Remember that we searched for an m such that H(P||m)=H=111111."
   ]
  },
  {
   "cell_type": "code",
   "execution_count": 32,
   "id": "8a833af1",
   "metadata": {},
   "outputs": [
    {
     "name": "stdout",
     "output_type": "stream",
     "text": [
      "H(1001011100001111) = 0101\n",
      "We previously declared the real hash value will be H' = 0101\n",
      "h*(1001011100001111) = 1111\n"
     ]
    }
   ],
   "source": [
    "# construct input\n",
    "bin_in = P + m\n",
    "print(\"H({}) = {}\".format(bin_in.bin, chash(bin_in, length_padding=len_pad).bin))\n",
    "\n",
    "if len_pad:\n",
    "    print(\"We previously declared the real hash value will be H' =\", real_H.bin)\n",
    "    print(\"h*({}) = {}\".format(bin_in.bin, chash(bin_in, length_padding=False).bin))"
   ]
  },
  {
   "cell_type": "markdown",
   "id": "e814a974",
   "metadata": {},
   "source": [
    "Awesome!"
   ]
  },
  {
   "cell_type": "markdown",
   "id": "658d9c52",
   "metadata": {},
   "source": [
    "### 3.2 The Quantum Nostradamus Attack"
   ]
  },
  {
   "cell_type": "markdown",
   "id": "6eaf6498",
   "metadata": {},
   "source": [
    "The simple attack from the previous section can be further improved by the second presented attack in the paper [[1]](). Indeed, we first construct a diamond in a precalculation to increase the probability of finding a collision with Grover. We need to construct four core algorithms for this attack:\n",
    "1. quantum find collision algorithm: to efficiently find collisions of the hash round function, which are required for the diamond construction. \n",
    "2. quantum diamond construction: to construct a diamond of hash values such that finding gibberish m such that H(P||m) = h for a published hash value h becomes more efficient. \n",
    "3. quantum find connection algorithm: the actual algorithm to find the gibberish m (parts of it) and connect P with the diamond. \n",
    "4. the quantum attack itself: all the above algorithms combined in a single attack."
   ]
  },
  {
   "cell_type": "markdown",
   "id": "e6454820",
   "metadata": {},
   "source": [
    "#### 3.2.1 Quantum Find Collision Algorithm"
   ]
  },
  {
   "cell_type": "markdown",
   "id": "587c6f01",
   "metadata": {},
   "source": [
    "For this first algorithm, we need to construct a function F1 where for 2^l fixed messages m_i, y and y* it holds that"
   ]
  },
  {
   "cell_type": "markdown",
   "id": "d4800456",
   "metadata": {},
   "source": [
    "$$ F\\left( m \\right) = 1\\Leftrightarrow \\exists i\\in \\left\\{ 1,\\ldots,2^{l} \\right\\}:h\\left( m_{i},y \\right) = h\\left( m,y^{*} \\right) $$"
   ]
  },
  {
   "cell_type": "markdown",
   "id": "16c6e46c",
   "metadata": {},
   "source": [
    "Let's construct a quantum circuit for F1. "
   ]
  },
  {
   "cell_type": "code",
   "execution_count": 33,
   "id": "f7d50dee",
   "metadata": {},
   "outputs": [
    {
     "data": {
      "image/png": "[encoded data removed]",
      "text/plain": [
       "<Figure size 798.546x565.88 with 1 Axes>"
      ]
     },
     "execution_count": 33,
     "metadata": {},
     "output_type": "execute_result"
    }
   ],
   "source": [
    "def construct_f1_gate(hash_list, y2):\n",
    "    \"\"\"Construction of the Gate for the F1 function. \n",
    "    Args:\n",
    "        hash_list (List of BitArrays): List of 2^l messages m_i.    \n",
    "        y2 (BitArray): Value y* in the definition of F1.   \n",
    "    Returns:\n",
    "        f1_gate (Quantum Gate): The Gate for the F1 function.\n",
    "        img (Image): Image of the quantum circuit.\n",
    "    \"\"\" \n",
    "    a_qr = QuantumRegister(reg_len, 'a')\n",
    "    b_qr = QuantumRegister(reg_len, 'b')\n",
    "    c_qr = QuantumRegister(reg_len, 'c')\n",
    "    d_qr = QuantumRegister(reg_len, 'd')\n",
    "\n",
    "    F1_circuit = QuantumCircuit(d_qr, c_qr, b_qr, a_qr, res_qr)\n",
    "\n",
    "    # init c, d according to y2\n",
    "    IV = BitArray(y2)\n",
    "    IV.reverse()\n",
    "    for i, bit in enumerate(IV):\n",
    "        if bit == 1:\n",
    "            F1_circuit.x(i)\n",
    "\n",
    "    # apply chash_round\n",
    "    input = QuantumCircuit(d_qr, c_qr, b_qr, a_qr)\n",
    "    output = QuantumCircuit(d_qr, c_qr)\n",
    "    F1_circuit.append(round_gate, input.qubits)\n",
    "    \n",
    "    # comparison for every hash in list\n",
    "    for hash in hash_list:\n",
    "        hash_tmp = BitArray(hash)\n",
    "        hash_tmp.reverse()\n",
    "        for i, bit in enumerate(hash_tmp):\n",
    "            if bit == 0:\n",
    "                F1_circuit.x(i)\n",
    "\n",
    "        F1_circuit.mct(output.qubits, res_qr)\n",
    "\n",
    "        for i, bit in enumerate(hash_tmp):\n",
    "            if bit == 0:\n",
    "                F1_circuit.x(i)\n",
    "    \n",
    "    # invert chash_round\n",
    "    DR_inv = round_gate.inverse()\n",
    "    DR_inv.label = \"10_DR_inv\"\n",
    "    F1_circuit.append(DR_inv,input.qubits)\n",
    "\n",
    "    # invert: init c, d according to y2\n",
    "    IV = BitArray(y2)\n",
    "    IV.reverse()\n",
    "    for i, bit in enumerate(IV):\n",
    "        if bit == 1:\n",
    "            F1_circuit.x(i)\n",
    "\n",
    "    # convert to quantum gate\n",
    "    F1_gate = F1_circuit.to_gate(label='F1')\n",
    "\n",
    "    # draw circuit\n",
    "    img = F1_circuit.draw(output='mpl', initial_state=True)\n",
    "\n",
    "    return F1_gate, img\n",
    "\n",
    "# application and illustration\n",
    "m1 = BitArray(bin=(n-2) *'0') + BitArray(bin='01')\n",
    "m2 = BitArray(bin=(n-2) *'0') + BitArray(bin='10')\n",
    "y1 = BitArray(bin=(n-2) *'0') + BitArray(bin='11')\n",
    "y2 = BitArray(bin=(n-2) *'0') + BitArray(bin='01')\n",
    "\n",
    "c, d = chash_round(m1, y1[:reg_len], y1[reg_len:])\n",
    "hash1 = c + d\n",
    "c, d = chash_round(m2, y1[:reg_len], y1[reg_len:])\n",
    "hash2 = c + d\n",
    "\n",
    "f1_gate, img = construct_f1_gate([hash1, hash2], y2)\n",
    "img "
   ]
  },
  {
   "cell_type": "markdown",
   "id": "f223c2cd",
   "metadata": {},
   "source": [
    "Let's test the circuit on two examples. First, for an arbitrary message, the circuit is supposed to return 0."
   ]
  },
  {
   "cell_type": "code",
   "execution_count": 34,
   "id": "2d83dea5",
   "metadata": {},
   "outputs": [
    {
     "data": {
      "image/png": "[encoded data removed]",
      "text/plain": [
       "<Figure size 443.694x626.08 with 1 Axes>"
      ]
     },
     "execution_count": 34,
     "metadata": {},
     "output_type": "execute_result"
    }
   ],
   "source": [
    "res_cr = ClassicalRegister(1, \"res_cr\")\n",
    "# construct a circuit for test purposes\n",
    "test_circuit_f1_m1 = QuantumCircuit(d_qr, c_qr, b_qr, a_qr, res_qr, res_cr)\n",
    "\n",
    "# init m1 \n",
    "# note that chash_round(110010, y1) != chash_round(110010, y2)\n",
    "IV = BitArray(m1)\n",
    "IV.reverse()\n",
    "for i, bit in enumerate(IV):\n",
    "    if bit == 1:\n",
    "        test_circuit_f1_m1.x(i+2*reg_len)\n",
    "\n",
    "test_circuit_f1_m1.barrier()    \n",
    "\n",
    "# apply gate\n",
    "input = QuantumCircuit(d_qr, c_qr, b_qr, a_qr, res_qr)\n",
    "test_circuit_f1_m1.append(f1_gate, input.qubits)\n",
    "\n",
    "test_circuit_f1_m1.barrier()\n",
    "\n",
    "# invert: init m1\n",
    "IV = BitArray(m1)\n",
    "IV.reverse()\n",
    "for i, bit in enumerate(IV):\n",
    "    if bit == 1:\n",
    "        test_circuit_f1_m1.x(i+2*reg_len)\n",
    "\n",
    "# measure outcome\n",
    "test_circuit_f1_m1.measure(res_qr, res_cr)\n",
    "\n",
    "# draw circuit\n",
    "test_circuit_f1_m1.draw(output='mpl', initial_state=True)"
   ]
  },
  {
   "cell_type": "code",
   "execution_count": 35,
   "id": "c1d13044",
   "metadata": {},
   "outputs": [
    {
     "name": "stdout",
     "output_type": "stream",
     "text": [
      "The result is F1(0001) = 0.\n"
     ]
    }
   ],
   "source": [
    "result = execute(test_circuit_f1_m1, simulator, shots=2**n).result()\n",
    "counts = result.get_counts(test_circuit_f1_m1)\n",
    "\n",
    "# get the most frequent result\n",
    "most_frequent = max(zip(counts.values(), counts.keys()))[1]\n",
    "print(\"The result is F1({}) = {}.\".format(m1.bin, most_frequent))"
   ]
  },
  {
   "cell_type": "markdown",
   "id": "5b9cdf2b",
   "metadata": {},
   "source": [
    "Secondly, for a message with the same hash value, the function is supposed to return 1. Let's quickly find such a message with the help of Grover's algorithm and then continue with the testing."
   ]
  },
  {
   "cell_type": "code",
   "execution_count": 36,
   "id": "402491c6",
   "metadata": {},
   "outputs": [
    {
     "name": "stdout",
     "output_type": "stream",
     "text": [
      "Grover's algorithm | Starting Grover try 1 with repeats=2.\n",
      "Grover's algorithm | Finishing Grover try 1, found m=1101.\n",
      "The result of Grover is 1101.\n"
     ]
    }
   ],
   "source": [
    "flip_gate, _ = construct_flip_gate(hash1, y2)\n",
    "m = Grover(flip_gate, 2**n, y2, [hash1])\n",
    "print(\"The result of Grover is {}.\".format(m.bin))"
   ]
  },
  {
   "cell_type": "code",
   "execution_count": 37,
   "id": "11315725",
   "metadata": {},
   "outputs": [
    {
     "data": {
      "image/png": "[encoded data removed]",
      "text/plain": [
       "<Figure size 443.694x626.08 with 1 Axes>"
      ]
     },
     "execution_count": 37,
     "metadata": {},
     "output_type": "execute_result"
    }
   ],
   "source": [
    "# construct a circuit for test purposes\n",
    "test_circuit_f1_m3 = QuantumCircuit(d_qr, c_qr, b_qr, a_qr, res_qr, res_cr)\n",
    "\n",
    "# init m\n",
    "IV = BitArray(m)\n",
    "IV.reverse()\n",
    "for i, bit in enumerate(IV):\n",
    "    if bit == 1:\n",
    "        test_circuit_f1_m3.x(i+2*reg_len)\n",
    "\n",
    "test_circuit_f1_m3.barrier() \n",
    "\n",
    "# apply gate\n",
    "input = QuantumCircuit(d_qr, c_qr, b_qr, a_qr, res_qr)\n",
    "test_circuit_f1_m3.append(f1_gate, input.qubits)\n",
    "\n",
    "test_circuit_f1_m3.barrier()\n",
    "\n",
    "# invert: init m\n",
    "IV = BitArray(m)\n",
    "IV.reverse()\n",
    "for i, bit in enumerate(IV):\n",
    "    if bit == 1:\n",
    "        test_circuit_f1_m3.x(i+2*reg_len)\n",
    "\n",
    "# measure outcome\n",
    "test_circuit_f1_m3.measure(res_qr, res_cr)\n",
    "\n",
    "# draw circuit\n",
    "test_circuit_f1_m3.draw(output='mpl', initial_state=True)"
   ]
  },
  {
   "cell_type": "code",
   "execution_count": 38,
   "id": "14b2e8e9",
   "metadata": {},
   "outputs": [
    {
     "name": "stdout",
     "output_type": "stream",
     "text": [
      "The result is F1(1101) = 1.\n"
     ]
    }
   ],
   "source": [
    "result = execute(test_circuit_f1_m3, simulator, shots=2**n).result()\n",
    "counts = result.get_counts(test_circuit_f1_m3)\n",
    "\n",
    "# get the most frequent result\n",
    "most_frequent = max(zip(counts.values(), counts.keys()))[1]\n",
    "print(\"The result is F1({}) = {}.\".format(m.bin, most_frequent))"
   ]
  },
  {
   "cell_type": "markdown",
   "id": "ee0aa7f3",
   "metadata": {},
   "source": [
    "Perfect. Let's continue with the construction of the phase flip gate for F1 to constitute the qfind_collision algorithm. "
   ]
  },
  {
   "cell_type": "code",
   "execution_count": 39,
   "id": "8209c650",
   "metadata": {},
   "outputs": [
    {
     "data": {
      "image/png": "[encoded data removed]",
      "text/plain": [
       "<Figure size 626.891x626.08 with 1 Axes>"
      ]
     },
     "execution_count": 39,
     "metadata": {},
     "output_type": "execute_result"
    }
   ],
   "source": [
    "def construct_flip_gate_f1(b, hash_list, y2):\n",
    "    \"\"\"Construction of the Phase Flip Operator for the F1 function. \n",
    "    Args:\n",
    "        b (BitArray): classical bitstring of the image of F1.  \n",
    "        hash_list (List of BitArrays): List of 2^l messages m_i.    \n",
    "        y2 (BitArray): Value y* in the definition of F1.  \n",
    "    Returns:\n",
    "        f1_flip_gate (Quantum Gate): Phase Flip Operator for F1.\n",
    "        img (Image): Image of the quantum circuit.\n",
    "    \"\"\" \n",
    "    a_qr = QuantumRegister(reg_len, 'a')\n",
    "    b_qr = QuantumRegister(reg_len, 'b')\n",
    "    c_qr = QuantumRegister(reg_len, 'c')\n",
    "    d_qr = QuantumRegister(reg_len, 'd')\n",
    "\n",
    "    f1_gate, _ = construct_f1_gate(hash_list, y2)        \n",
    "    \n",
    "    f1_phase_flip = QuantumCircuit(d_qr, c_qr, b_qr, a_qr, res_qr, kickback_qr)\n",
    "    f1_phase_flip_side = QuantumCircuit(d_qr, c_qr, b_qr, a_qr, res_qr, kickback_qr)\n",
    "    \n",
    "    #apply f1\n",
    "    input = QuantumCircuit(d_qr, c_qr, b_qr, a_qr, res_qr)\n",
    "    f1_phase_flip_side.append(f1_gate, input.qubits)\n",
    "\n",
    "    # calculate specific controlled gate for preimage H\n",
    "    if b == 1:\n",
    "        f1_phase_flip_side.x(res_qr)\n",
    "    \n",
    "    # apply all above operations to quantum circuit\n",
    "    f1_phase_flip.compose(f1_phase_flip_side, inplace=True)\n",
    "\n",
    "    # phase flip multi-cnot\n",
    "    f1_phase_flip.cnot(res_qr, kickback_qr)\n",
    "\n",
    "    # apply the inverse of all above operations to quantum circuit\n",
    "    f1_phase_flip.compose(f1_phase_flip_side.inverse(), inplace=True)\n",
    "\n",
    "    # convert to quantum gate\n",
    "    f1_flip_gate = f1_phase_flip.to_gate(label='f1_flip')\n",
    "\n",
    "    # draw circuit\n",
    "    img = f1_phase_flip.draw(output='mpl', initial_state=True)\n",
    "\n",
    "    return f1_flip_gate, img\n",
    "\n",
    "# application and illustration\n",
    "m1 = BitArray(bin=(n-2) *'0') + BitArray(bin='01')\n",
    "m2 = BitArray(bin=(n-2) *'0') + BitArray(bin='10')\n",
    "y1 = BitArray(bin=(n-2) *'0') + BitArray(bin='11')\n",
    "y2 = BitArray(bin=(n-2) *'0') + BitArray(bin='01')\n",
    "\n",
    "c, d = chash_round(m1, y1[:reg_len], y1[reg_len:])\n",
    "hash1 = c + d\n",
    "c, d = chash_round(m2, y1[:reg_len], y1[reg_len:])\n",
    "hash2 = c + d\n",
    "\n",
    "f1_flip_gate, img = construct_flip_gate_f1(1, [hash1, hash2], y2)\n",
    "img"
   ]
  },
  {
   "cell_type": "markdown",
   "id": "45d9fe05",
   "metadata": {},
   "source": [
    "Let's combine everything in the qfind_collision algorithm."
   ]
  },
  {
   "cell_type": "code",
   "execution_count": 40,
   "id": "33eaf239",
   "metadata": {},
   "outputs": [],
   "source": [
    "import random\n",
    "from math import ceil\n",
    "\n",
    "def qfind_collision(y1, y2):\n",
    "    \"\"\"Given two hash values y1, y2, the algorithm finds a pair of messages m1, m2 \n",
    "        such that h(m1, y1) = h(m2, y2).\n",
    "    Args:\n",
    "        y1 (BitArray): classical bitstring for the first hash value.\n",
    "        y2 (BitArray): classical bitstring for the second hash value.\n",
    "    Returns:\n",
    "        m1 (BitArray): classical bitstring for the first message.\n",
    "        m2 (BitArray): classical bitstring for the second message.\n",
    "        h (BitArray): classical bitstring for the common hash.\n",
    "    \"\"\"\n",
    "    global ghost_sampling\n",
    "\n",
    "    # empty set of samples as dictionary\n",
    "    samples = {}\n",
    "    hash_list = []\n",
    "\n",
    "    # Randomly sample messages mi for i=1..2^l and calculate h(mi, y1).\n",
    "    # If h(mi, y1) == h(mj, y1) for i!=j sample new mi.\n",
    "    \n",
    "    l = ceil(n/3)\n",
    "\n",
    "    while len(hash_list) < 2**l:\n",
    "        random_bits = random.getrandbits(n)\n",
    "        mi = BitArray(uint = random_bits, length = n)\n",
    "        ghost_sampling += 1\n",
    "    \n",
    "        h1, h2 = chash_round(mi, y1[:reg_len], y1[reg_len:])\n",
    "        hash_mi = h1 + h2\n",
    "\n",
    "        # skip if already in list\n",
    "        if samples.get(hash_mi.bin) == None:\n",
    "            samples[hash_mi.bin] = mi\n",
    "            hash_list.append(hash_mi)\n",
    "\n",
    "    print(\"qfind_collision | Hash-Samples: {}\".format(list(samples.keys())))\n",
    "\n",
    "    # apply Grover for preimage 1 on Function F with F(m) = 1 :⇔ ∃i ∈ {1,...,2l} : h(mi,y1) = h(m,y2)\n",
    "    # the result is mgrov\n",
    "    f1_flip_gate, _ = construct_flip_gate_f1(1, hash_list, y2)\n",
    "    mgrov = Grover(f1_flip_gate, 2**(n-l), y2, hash_list, measurement='collision')\n",
    "\n",
    "    # find i in samples such that h(mi,y) = h(m∗,y2)\n",
    "    h1, h2 = chash_round(mgrov, y2[:reg_len], y2[reg_len:])\n",
    "    hash_grov = h1 + h2\n",
    "\n",
    "    print(\"qfind_collision | H({})={}\".format(mgrov.bin, hash_grov.bin))\n",
    "    mres = None\n",
    "\n",
    "    for hash in samples:\n",
    "\n",
    "        # found mi\n",
    "        if hash == hash_grov.bin:\n",
    "            mres = samples[hash]\n",
    "            break\n",
    "\n",
    "    # error \n",
    "    if mres == None:\n",
    "        print(\"qfind_collision | Grover found {}. However the corresponding hash does not corresponds to any hash in the samples.\".format(mgrov.bin))\n",
    "        raise Exception(\"Grover found {}. However the corresponding hash does not corresponds to any hash in the samples.\".format(mgrov.bin))\n",
    "\n",
    "    return mres, mgrov, hash_grov"
   ]
  },
  {
   "cell_type": "markdown",
   "id": "a31ec0d1",
   "metadata": {},
   "source": [
    "Let's check if the results of this method are correct. Recall that h(m1,y1) == h(m2,y2)."
   ]
  },
  {
   "cell_type": "code",
   "execution_count": 41,
   "id": "9c3de058",
   "metadata": {},
   "outputs": [
    {
     "name": "stdout",
     "output_type": "stream",
     "text": [
      "qfind_collision | Hash-Samples: ['1110', '0000', '0100', '1000']\n",
      "Grover's algorithm | Starting Grover try 1 with repeats=1.\n",
      "Grover's algorithm | Finishing Grover try 1, found m=1111.\n",
      "qfind_collision | H(1111)=0100\n",
      "h(0010,0010) = 0100 and h(1111,0011) = 0100.\n"
     ]
    }
   ],
   "source": [
    "# construct parameters \n",
    "y1 = BitArray(bin=(n-2) *'0') + BitArray(bin='10')\n",
    "y2 = BitArray(bin=(n-2) *'0') + BitArray(bin='11')\n",
    "\n",
    "# test method\n",
    "m1, m2, _ = qfind_collision(y1, y2)\n",
    "c, d = chash_round(m1, y1[:reg_len], y1[reg_len:])\n",
    "res_m1 = c + d\n",
    "c, d = chash_round(m2, y2[:reg_len], y2[reg_len:])\n",
    "res_m2 = c + d\n",
    "print(\"h({},{}) = {} and h({},{}) = {}.\".format(m1.bin, y1.bin, res_m1.bin, m2.bin, y2.bin, res_m2.bin))"
   ]
  },
  {
   "cell_type": "markdown",
   "id": "e6cb8089",
   "metadata": {},
   "source": [
    "#### 3.2.2 Quantum Diamond Construction"
   ]
  },
  {
   "cell_type": "markdown",
   "id": "b798b9a8",
   "metadata": {},
   "source": [
    "We've just implemented the qfind_collusion quantum algorithm and can now continue with the diamond construction. The basic idea is that we build a balanced binary tree such that instead of finding one specific hash value, we can find each of the 2^(k-1) leafs. Subsequently, each of the leafs will lead to the same hash value because of the iterative nature of the hash algorithm. This increases the probability of finding a collision. "
   ]
  },
  {
   "cell_type": "code",
   "execution_count": 42,
   "id": "7bb892f6",
   "metadata": {},
   "outputs": [
    {
     "name": "stdout",
     "output_type": "stream",
     "text": [
      "qconstruct_diamond | Sampling 2^1 bitstrings.\n",
      "qconstruct_diamond | Starting loop 0/0.\n",
      "qconstruct_diamond | Finding collision between 1110 and 1011 with qfind_collision.\n",
      "qfind_collision | Hash-Samples: ['0001', '1010', '0000', '0011']\n",
      "Grover's algorithm | Starting Grover try 1 with repeats=1.\n",
      "Grover's algorithm | Finishing Grover try 1, found m=0110.\n",
      "qfind_collision | H(0110)=0011\n"
     ]
    }
   ],
   "source": [
    "def qconstruct_diamond(k = -1):\n",
    "    \"\"\"Given a height k, the algorithm constructs a diamond of hash values based on \n",
    "        qfind_collision.\n",
    "    Returns:\n",
    "        nodes (List of Lists of BitArrays): Nodes in the diamond.\n",
    "        edges (List of List of BitArrays): Edges in the diamond. \n",
    "    \"\"\"\n",
    "    global ghost_sampling\n",
    "\n",
    "    # init parameters \n",
    "    nodes = []\n",
    "    edges = []\n",
    "    samples = {}\n",
    "\n",
    "    # sample 2^k random distinct bitstrings \n",
    "    if k==-1:\n",
    "        k = ceil(n/9 - 2/3)\n",
    "        # k = ceil(n/7)\n",
    "\n",
    "    print(\"qconstruct_diamond | Sampling 2^{} bitstrings.\".format(k))\n",
    "    while len(samples) < 2**k:\n",
    "        random_bits = random.getrandbits(n)\n",
    "        yi = BitArray(uint = random_bits, length = n)\n",
    "        ghost_sampling += 1\n",
    "\n",
    "        # skip if already in list\n",
    "        if samples.get(yi.bin) == None:\n",
    "            samples[yi.bin] = yi\n",
    "    \n",
    "    # repeat until s=1\n",
    "    for s in reversed(range(1, k+1)):\n",
    "\n",
    "        print(\"qconstruct_diamond | Starting loop {}/{}.\".format(k-s, k-1))\n",
    "        # init loop parameters\n",
    "        if (s==k):\n",
    "            samples_list = list(samples.values())\n",
    "            # construct diamond nodes\n",
    "            nodes.append(samples_list)\n",
    "        else:\n",
    "            samples_list = new_samples\n",
    "        new_samples = []\n",
    "        new_edges = []\n",
    "\n",
    "        for i in range(2**(s-1)):\n",
    "            # calculate edges \n",
    "            y1 = samples_list[2*i]\n",
    "            y2 = samples_list[2*i+1]\n",
    "            \n",
    "            print(\"qconstruct_diamond | Finding collision between {} and {} with qfind_collision.\".format(y1.bin, y2.bin))\n",
    "            m1, m2, y_new = qfind_collision(y1, y2)\n",
    "\n",
    "            new_edges.append(m1)\n",
    "            new_edges.append(m2)\n",
    "        \n",
    "            # calulcate new nodes\n",
    "            new_samples.append(y_new)\n",
    "        \n",
    "        # construct diamond edges\n",
    "        edges.append(new_edges)\n",
    "\n",
    "        # construct diamond nodes\n",
    "        nodes.append(new_samples)\n",
    "\n",
    "    return nodes, edges\n",
    "\n",
    "# application \n",
    "nodes, edges = qconstruct_diamond(k=1)"
   ]
  },
  {
   "cell_type": "code",
   "execution_count": 43,
   "id": "5499205f",
   "metadata": {},
   "outputs": [
    {
     "name": "stdout",
     "output_type": "stream",
     "text": [
      "\n",
      "1110    1011    \n",
      "1011    0110    \n",
      "    0011            "
     ]
    }
   ],
   "source": [
    "def print_diamond(nodes, edges):\n",
    "    \"\"\"Given the nodes and edges of a diamond this algorithm vizualizes the construction.\n",
    "    Args:\n",
    "        nodes (List of Lists of BitArrays): Nodes in the diamond.\n",
    "        edges (List of List of BitArrays): Edges in the diamond. \n",
    "    \"\"\"\n",
    "    for i, node_list in enumerate(nodes):\n",
    "        # print nodes\n",
    "        print()\n",
    "        print((2**i-1)*int(n)*\" \", end=\"\")\n",
    "        for node in node_list:\n",
    "            print(node.bin, end=(2**(i+1)-1)*int(n)*\" \")\n",
    "\n",
    "        # print edges \n",
    "        if i < len(edges):\n",
    "            print()\n",
    "            print((2**i-1)*int(n)*\" \", end=\"\")\n",
    "            for edge in edges[i]:\n",
    "                print(edge.bin, end=(2**(i+1)-1)*int(n)*\" \")\n",
    "\n",
    "print_diamond(nodes, edges)"
   ]
  },
  {
   "cell_type": "markdown",
   "id": "af573b01",
   "metadata": {},
   "source": [
    "#### 3.2.3 Quantum Find Connection Algorithm "
   ]
  },
  {
   "cell_type": "markdown",
   "id": "982d03e3",
   "metadata": {},
   "source": [
    "To use the diamond, we need to find a connection message mcon such that H(P||mcon) maps to a leaf in the diamond. Constructing a final prophecy P' is as easy as appending all the edges in the diamond to P||mcon. As a result, the final prophecy maps to the previously published root of the diamond. "
   ]
  },
  {
   "cell_type": "code",
   "execution_count": 44,
   "id": "890e2ce6",
   "metadata": {},
   "outputs": [
    {
     "name": "stdout",
     "output_type": "stream",
     "text": [
      "qfind_connection | P filled with zeros: 100101110000\n",
      "qfind_connection | Last h-Evaluation of P calculated p = 1101\n",
      "qfind_connection | Starting Grover's algorithm to find a preimage mcon such that chash_round(mcon, p) = yi.\n",
      "Grover's algorithm | Starting Grover try 1 with repeats=1.\n",
      "Grover's algorithm | Finishing Grover try 1, found m=1110.\n"
     ]
    }
   ],
   "source": [
    "from math import log2\n",
    "\n",
    "def qfind_connection(P, nodes):\n",
    "    \"\"\"Given a diamond, the algorithm finds a connection message mcon, such that h(mcon,p)=yi\n",
    "    where yi is a leaf of the diamond and p is H(P||00..00)=p.\n",
    "    Args:\n",
    "        P (BitArray): classical bitstring for the prophecy.\n",
    "        nodes (List of Lists of BitArrays): Nodes in the diamond.\n",
    "    Returns:\n",
    "        mcon (BitArray): classical bitstring of the message mcon.\n",
    "        leaf_index (int): index of the leaf in leafs (nodes[0]).\n",
    "        P' (BitArray): classical bitstring for the prophecy, filled with zeros.\n",
    "    \"\"\"\n",
    "    # Step 1 | fill P with zero's \n",
    "    while len(P) % n != 0:\n",
    "        P = P + BitArray(bin='0')\n",
    "    print(\"qfind_connection | P filled with zeros:\", P.bin)\n",
    "\n",
    "    # Step 2 | classically calculate the last h-Evaluation of P\n",
    "    p = chash(P, length_padding=False)\n",
    "    print(\"qfind_connection | Last h-Evaluation of P calculated p =\", p.bin)\n",
    "\n",
    "    # Step 3 | use F1 and Grover's algorithm to calculate a preimage m such that chash_round(mcon, p) = yi\n",
    "    print(\"qfind_connection | Starting Grover's algorithm to find a preimage mcon such that chash_round(mcon, p) = yi.\")\n",
    "    leafs = nodes[0]\n",
    "\n",
    "    # apply Grover for preimage 1 on Function F with F(m) = 1 :⇔ ∃i: h(mcon,p) = yi\n",
    "    # the result is mcon\n",
    "    f1_flip_gate, _ = construct_flip_gate_f1(1, leafs, p)\n",
    "    leaf_count = len(leafs)\n",
    "    k = ceil(log2(leaf_count))\n",
    "    mcon = Grover(f1_flip_gate, 2**(n-k), p, leafs, measurement='connection')\n",
    "\n",
    "    # find i in samples such that h(mcon,p) = yi\n",
    "    h1, h2 = chash_round(mcon, p[:reg_len], p[reg_len:])\n",
    "    hash_con = h1 + h2\n",
    "\n",
    "    for i, leaf in enumerate(leafs):\n",
    "\n",
    "        # found mi\n",
    "        if leaf == hash_con:\n",
    "            leaf_index = i\n",
    "            break\n",
    "    \n",
    "    return mcon, leaf_index, P\n",
    "\n",
    "# application\n",
    "P = BitArray(bin='100101110')\n",
    "mcon, leaf_index, P = qfind_connection(P, nodes)"
   ]
  },
  {
   "cell_type": "code",
   "execution_count": 45,
   "id": "a65ea4a1",
   "metadata": {},
   "outputs": [
    {
     "name": "stdout",
     "output_type": "stream",
     "text": [
      "h*(1001011100001110) = 1110 and leaf = 1110.\n"
     ]
    }
   ],
   "source": [
    "# construct parameters\n",
    "m = P + mcon \n",
    "check_leaf = nodes[0][leaf_index]\n",
    "H = chash(m, length_padding=False)\n",
    "\n",
    "print(\"h*({}) = {} and leaf = {}.\".format(m.bin, H.bin, check_leaf.bin))"
   ]
  },
  {
   "cell_type": "markdown",
   "id": "5cd134e6",
   "metadata": {},
   "source": [
    "#### 3.2.4 The Nostradamus Quantum Attack"
   ]
  },
  {
   "cell_type": "markdown",
   "id": "52b73b4e",
   "metadata": {},
   "source": [
    "Let's continue by testing our attack in a specific scenario: the win/loose sequence of football games for one specific team. We first precalculate a hash H before the season starts. After all of the football games, we need to find a bitstring P that encodes the win/loose sequence, such that H(P)=H. We begin by precomputing a diamond structure. Note that the prophecy can be arbitrarily large: the only constraint is the correct encoding of the win/loose sequence in the first bits. However, we need to guess the amount of blocks the final prophecy might have to approximate the correct length padding beforehand. Therefore, we guess the length by assigning an arbitrary bitstring to prophecy p with approximately the same length."
   ]
  },
  {
   "cell_type": "code",
   "execution_count": 57,
   "id": "5747e4e9",
   "metadata": {},
   "outputs": [],
   "source": [
    "P = BitArray(bin='0000000001')"
   ]
  },
  {
   "cell_type": "code",
   "execution_count": 58,
   "id": "23dac321",
   "metadata": {},
   "outputs": [
    {
     "name": "stdout",
     "output_type": "stream",
     "text": [
      "Step 1 | Construct diamond of hash values.\n",
      "qconstruct_diamond | Sampling 2^1 bitstrings.\n",
      "qconstruct_diamond | Starting loop 0/0.\n",
      "qconstruct_diamond | Finding collision between 1010 and 0001 with qfind_collision.\n",
      "qfind_collision | Hash-Samples: ['1101', '0000', '0111', '1110']\n",
      "Grover's algorithm | Starting Grover try 1 with repeats=1.\n",
      "Grover's algorithm | Finishing Grover try 1, found m=0101.\n",
      "qfind_collision | H(0101)=1101\n",
      "Step 2 | Return hash of root of diamond and precalculated length padding: 0000.\n"
     ]
    }
   ],
   "source": [
    "def qnostradamus_attack_precalc(k = -1):\n",
    "    \"\"\"Implementation of the quantum Nostradamus attack precalculation. \n",
    "    Args:\n",
    "        k (int): size of the diamond\n",
    "    Returns:\n",
    "        nodes (List of Lists of BitArrays): Nodes in the diamond.\n",
    "        edges (List of List of BitArrays): Edges in the diamond. \n",
    "        root (BitArray): root of diamond or hash of root of diamond and precalculated length padding.\n",
    "    \"\"\"\n",
    "    # init eval parameters\n",
    "    ghost_init()\n",
    "\n",
    "    if k==-1:\n",
    "        k = ceil(n/9 - 2/3)\n",
    "        # k = ceil(n/7)\n",
    "\n",
    "    # time measurment \n",
    "    global ghost_pre_time\n",
    "    ghost_pre_time = time.time()\n",
    "\n",
    "    print(\"Step 1 | Construct diamond of hash values.\")\n",
    "    nodes, edges = qconstruct_diamond(k)\n",
    "    \n",
    "    root = nodes[-1][0]\n",
    "    if len_pad:\n",
    "        root = precalculate_hash(P, root, k+1)\n",
    "        print(\"Step 2 | Return hash of root of diamond and precalculated length padding: {}.\".format(root.bin))\n",
    "    else:\n",
    "         print(\"Step 2 | Return root of diamond: {}.\".format(root.bin))\n",
    "        \n",
    "\n",
    "    # time measurment\n",
    "    ghost_pre_time = time.time() - ghost_pre_time\n",
    "\n",
    "    return nodes, edges, root\n",
    "\n",
    "# application\n",
    "nodes, edges, root = qnostradamus_attack_precalc(1)"
   ]
  },
  {
   "cell_type": "markdown",
   "id": "01004274",
   "metadata": {},
   "source": [
    "We now publish the paramter root as hash H."
   ]
  },
  {
   "cell_type": "markdown",
   "id": "257784e3",
   "metadata": {},
   "source": [
    "Our constructed diamond looks as follows."
   ]
  },
  {
   "cell_type": "code",
   "execution_count": 59,
   "id": "55e63cb9",
   "metadata": {},
   "outputs": [
    {
     "name": "stdout",
     "output_type": "stream",
     "text": [
      "\n",
      "1010    0001    \n",
      "0010    0101    \n",
      "    1101            "
     ]
    }
   ],
   "source": [
    "print_diamond(nodes, edges)"
   ]
  },
  {
   "cell_type": "markdown",
   "id": "c254db6d",
   "metadata": {},
   "source": [
    "A few months go by, and the season ends. For example, the team could have won the first three games, lost two, and won five more."
   ]
  },
  {
   "cell_type": "code",
   "execution_count": 60,
   "id": "895793c9",
   "metadata": {},
   "outputs": [],
   "source": [
    "P = BitArray(bin='1110011111')"
   ]
  },
  {
   "cell_type": "markdown",
   "id": "56740aac",
   "metadata": {},
   "source": [
    "We continue by constructing a prophcy P' out of the correct sequence P with the diamond."
   ]
  },
  {
   "cell_type": "code",
   "execution_count": 61,
   "id": "2fb04872",
   "metadata": {},
   "outputs": [
    {
     "name": "stdout",
     "output_type": "stream",
     "text": [
      "Step 3 | Find connection message.\n",
      "qfind_connection | P filled with zeros: 111001111100\n",
      "qfind_connection | Last h-Evaluation of P calculated p = 0110\n",
      "qfind_connection | Starting Grover's algorithm to find a preimage mcon such that chash_round(mcon, p) = yi.\n",
      "Grover's algorithm | Starting Grover try 1 with repeats=1.\n",
      "Grover's algorithm | Finishing Grover try 1, found m=1000.\n",
      "Step 3 | Found mcon=1000.\n",
      "Step 4 | Constructing the final prophecy.\n",
      "Step 4 | Current edge through diamond=0010 (Layer 0, Index 0).\n"
     ]
    }
   ],
   "source": [
    "def qnostradamus_attack_aftercalc(P, nodes, edges):\n",
    "    \"\"\"Implementation of the quantum Nostradamus attack after the event occurred. \n",
    "    Args:\n",
    "        P (BitArray): classical bitstring for the prophecy.\n",
    "        nodes (List of Lists of BitArrays): Nodes in the diamond.\n",
    "        edges (List of Lists of BitArrays): Edges in the diamond.\n",
    "    Returns:\n",
    "        P' (BitArray): classical bitstring of the final prophecy that is published.\n",
    "    \"\"\"\n",
    "\n",
    "    # time measurment\n",
    "    global ghost_after_time\n",
    "    ghost_after_time = time.time()\n",
    "\n",
    "    print(\"Step 3 | Find connection message.\")\n",
    "    mcon, leaf_index, P = qfind_connection(P, nodes)\n",
    "    print(\"Step 3 | Found mcon={}.\".format(mcon.bin))\n",
    "\n",
    "    print(\"Step 4 | Constructing the final prophecy.\")\n",
    "    P = P + mcon \n",
    "\n",
    "    # find path in diamond \n",
    "    i = leaf_index\n",
    "    for j, edge_list in enumerate(edges):\n",
    "        current_edge = edge_list[i]\n",
    "        print(\"Step 4 | Current edge through diamond={} (Layer {}, Index {}).\".format(current_edge.bin, j, i))\n",
    "        P = P + current_edge\n",
    "        i = int(i/2)\n",
    "\n",
    "    # time measurment\n",
    "    ghost_after_time = time.time() - ghost_after_time\n",
    "\n",
    "    return P\n",
    "\n",
    "# application\n",
    "P_new = qnostradamus_attack_aftercalc(P, nodes, edges)"
   ]
  },
  {
   "cell_type": "markdown",
   "id": "04e81244",
   "metadata": {},
   "source": [
    "We used the following resources in the process."
   ]
  },
  {
   "cell_type": "code",
   "execution_count": 62,
   "id": "86c5fd8c",
   "metadata": {},
   "outputs": [
    {
     "name": "stdout",
     "output_type": "stream",
     "text": [
      "In the previous attack:\n",
      "A hash function with size n=4 and B=4 was attacked.\n",
      "The pre calculation took 8.067933320999146 seconds.\n",
      "The after calculation took 8.695271015167236 seconds.\n",
      "Therefore the total took 16.763204336166382 seconds.\n",
      "13 classical round function calls were required.\n",
      "0 quantum round function calls were required.\n",
      "1 quantum function calls to F_collision were required.\n",
      "1 quantum function calls to F_connection were required.\n",
      "0 Grover repitions were required.\n",
      "6 Values were sampled.\n"
     ]
    }
   ],
   "source": [
    "print_ghost_variables()"
   ]
  },
  {
   "cell_type": "markdown",
   "id": "16dccfd6",
   "metadata": {},
   "source": [
    "We now submit this bitstring P_new as prophecy because it holds that H(P_new)=H."
   ]
  },
  {
   "cell_type": "code",
   "execution_count": 63,
   "id": "748294c0",
   "metadata": {},
   "outputs": [
    {
     "name": "stdout",
     "output_type": "stream",
     "text": [
      "H(11100111110010000010) = 0000 where the submitted hash value was root = 0000.\n"
     ]
    }
   ],
   "source": [
    "H = chash(P_new, length_padding=len_pad)\n",
    "print(\"H({}) = {} where the submitted hash value was root = {}.\".format(P_new.bin, H.bin, root.bin))"
   ]
  },
  {
   "cell_type": "markdown",
   "id": "3d00cae6",
   "metadata": {},
   "source": [
    "### 3.3 An improved Version of the Quantum Nostradamus Attack"
   ]
  },
  {
   "cell_type": "markdown",
   "id": "bfc90ac8",
   "metadata": {},
   "source": [
    "Before we finish this notebook with the evaluation, we introduce an improvement of the quantum Nostradamus Attack that was first proposed by Barbara Jiabao Benedikt. In simple words the improvement changes the process of sampling during the diamond creation by creating samples for (half of) the values in one layer of the diamond instead of only a pair of values at once. This reduces the total amount of samples that are necessary for the diamond creation, while the run time of Grover's algorithm remains the same. "
   ]
  },
  {
   "cell_type": "code",
   "execution_count": 64,
   "id": "f2de333c",
   "metadata": {},
   "outputs": [
    {
     "name": "stdout",
     "output_type": "stream",
     "text": [
      "qconstruct_diamond | Sampling 2^1 bitstrings.\n",
      "qconstruct_diamond | Starting loop 0/0.\n",
      "qconstruct_diamond | Creating up to 2^2 new hash values for the diamond values in the current layer.\n",
      "qconstruct_diamond | Need 4 more hash values.\n",
      "qfind_collision | Hash-Samples: {0: [BitArray('0x0'), BitArray('0x9'), BitArray('0x3'), BitArray('0xe')]}\n",
      "Grover's algorithm | Starting Grover try 1 with repeats=1.\n",
      "Grover's algorithm | Finishing Grover try 1, found m=1001.\n",
      "qfind_collision | H(1001)=1110\n",
      "qfind_collision | The collision corresponds to the node 1110 at index 0 with message 0011.\n"
     ]
    }
   ],
   "source": [
    "def improved_qconstruct_diamond(k = -1):\n",
    "    \"\"\"Given a height k, this improved version of the algorithm constructs a diamond of hash values based on \n",
    "        qfind_collision.\n",
    "    Returns:\n",
    "        nodes (List of Lists of BitArrays): Nodes in the diamond.\n",
    "        edges (List of List of BitArrays): Edges in the diamond. \n",
    "    \"\"\"\n",
    "    global ghost_sampling\n",
    "\n",
    "    # init diamond parameters \n",
    "    edges = []\n",
    "\n",
    "    # init current and new diamond values\n",
    "    diamond_samples = {} # dictionary so that all values are different\n",
    "\n",
    "    # sample 2^k random distinct bitstrings \n",
    "    if k==-1:\n",
    "        k = ceil(n/7)\n",
    "\n",
    "    print(\"qconstruct_diamond | Sampling 2^{} bitstrings.\".format(k))\n",
    "    while len(diamond_samples) < 2**k:\n",
    "        random_bits = random.getrandbits(n)\n",
    "        yi = BitArray(uint = random_bits, length = n)\n",
    "        ghost_sampling += 1\n",
    "\n",
    "        # skip if already in list\n",
    "        if diamond_samples.get(yi.bin) == None:\n",
    "            diamond_samples[yi.bin] = yi\n",
    "    \n",
    "    # repeat until s=1\n",
    "    for s in reversed(range(1, k+1)):\n",
    "\n",
    "        print(\"qconstruct_diamond | Starting loop {}/{}.\".format(k-s, k-1))\n",
    "        # init loop parameters\n",
    "        if (s==k):\n",
    "            diamond_samples_list = list(diamond_samples.values())\n",
    "        else:\n",
    "            diamond_samples_list = new_diamond_samples\n",
    "\n",
    "        # init sample values and corresponding hashs \n",
    "        new_diamond_samples = []\n",
    "        hash_dic = {}\n",
    "        hash_list = []\n",
    "        samples = {}\n",
    "        new_edges = []\n",
    "        j = 0\n",
    "\n",
    "        # for every value in the upper half of the diamond layer \n",
    "        for diamond_value in diamond_samples_list[2**(s-1):]:\n",
    "\n",
    "            # Randomly sample messages mi for i=1..2^l and calculate h(mi, yj) for different j's.\n",
    "            # If the hash was already sampled, sample again.\n",
    "            \n",
    "            l = ceil((n+2*s-2*log2(s))/3)\n",
    "            #l = ceil(n/3)\n",
    "            \n",
    "            print(\"qconstruct_diamond | Creating up to 2^{} new hash values for the diamond values in the current layer.\".format(l))\n",
    "            print(\"qconstruct_diamond | Need {} more hash values.\".format(2**l - len(samples)))\n",
    "            while len(samples) < 2**l:\n",
    "                random_bits = random.getrandbits(n)\n",
    "                m = BitArray(uint = random_bits, length = n)\n",
    "                ghost_sampling += 1\n",
    "\n",
    "                # circular selection increment until unprocessed Node (first half of values)\n",
    "                while hash_dic.get(j) == -1:\n",
    "                    j = (j + 1) % 2**(s-1)\n",
    "                y = diamond_samples_list[j]\n",
    "        \n",
    "                h1, h2 = chash_round(m, y[:reg_len], y[reg_len:])\n",
    "                hash_m = h1 + h2\n",
    "\n",
    "                # skip if already in list\n",
    "                if samples.get(hash_m.bin) == None:\n",
    "                    samples[hash_m.bin] = (j, m)\n",
    "                    hash_list.append(hash_m)\n",
    "\n",
    "                    # remember index\n",
    "                    if hash_dic.get(j) == None:\n",
    "                        hash_dic[j] = [hash_m]\n",
    "                    else:\n",
    "                        hash_dic[j].append(hash_m)\n",
    "\n",
    "                    # increment \n",
    "                    j = (j + 1) % 2**(s-1)\n",
    "        \n",
    "\n",
    "            print(\"qfind_collision | Hash-Samples: {}\".format(hash_dic))\n",
    "\n",
    "            # apply Grover for preimage 1 on Function F with F(m') = 1 :⇔ ∃i ∈ {1,...,2l} : h(m,y) = h(m',diamond_value)\n",
    "            # the result is mgrov\n",
    "            f1_flip_gate, _ = construct_flip_gate_f1(1, hash_list, diamond_value)\n",
    "            mgrov = Grover(f1_flip_gate, 2**(n-l), diamond_value, hash_list, measurement='collision')\n",
    "\n",
    "            # find i in samples such that h(mi,y) = h(m∗,y2)\n",
    "            h1, h2 = chash_round(mgrov, diamond_value[:reg_len], diamond_value[reg_len:])\n",
    "            hash_grov = h1 + h2\n",
    "\n",
    "            print(\"qfind_collision | H({})={}\".format(mgrov.bin, hash_grov.bin))\n",
    "            \n",
    "            # add to new layer\n",
    "            new_diamond_samples.append(hash_grov)\n",
    "\n",
    "            # find other message with same hash\n",
    "            mres = None\n",
    "\n",
    "            for hash in samples:\n",
    "\n",
    "                # found m\n",
    "                if hash == hash_grov.bin:\n",
    "                    (jres, mres) = samples[hash]\n",
    "                    break\n",
    "\n",
    "            # potential error \n",
    "            if mres == None:\n",
    "                print(\"qfind_collision | Grover found {}. However the corresponding hash does not corresponds to any hash in the samples\".format(mgrov.bin))\n",
    "                raise Exception(\"Grover found {}. However the corresponding hash does not corresponds to any hash in the samples\".format(mgrov.bin))\n",
    "\n",
    "            # connect nodes \n",
    "            new_edges.append((diamond_value, mgrov, hash_grov))\n",
    "            y = diamond_samples_list[jres]\n",
    "            new_edges.append((y, mres, hash_grov))\n",
    "\n",
    "            print(\"qfind_collision | The collision corresponds to the node {} at index {} with message {}.\".format(y.bin, jres, mres.bin))\n",
    "\n",
    "            # steps for new iteration \n",
    "            clear_lst = hash_dic[jres]  \n",
    "\n",
    "            # clear samples (hash can be reused again)\n",
    "            # and samples (for simple translation to F1)\n",
    "            for hash in clear_lst:\n",
    "                samples.pop(hash.bin)\n",
    "                hash_list.remove(hash)\n",
    "\n",
    "            # clear hash_dic (mark as processed)\n",
    "            hash_dic[jres] = -1\n",
    "\n",
    "        edges.append(new_edges)\n",
    "\n",
    "    return edges\n",
    "\n",
    "# application \n",
    "edges = improved_qconstruct_diamond(k=1)"
   ]
  },
  {
   "cell_type": "code",
   "execution_count": 65,
   "id": "dbe35391",
   "metadata": {},
   "outputs": [],
   "source": [
    "def translate_diamond(edges):\n",
    "    # init \n",
    "    n_nodes = []\n",
    "    n_edges = []\n",
    "\n",
    "    # translate top down \n",
    "    reversed_edges = edges.copy()\n",
    "    reversed_edges.reverse()\n",
    "\n",
    "    # precompute root \n",
    "    (_, _, root) = reversed_edges[0][0]\n",
    "    n_nodes.append([root])\n",
    "\n",
    "    # process list\n",
    "    for edge_list in reversed_edges:\n",
    "\n",
    "        nodes_layer = []\n",
    "        edges_layer = []\n",
    "        processed = 0\n",
    "        \n",
    "        # search until correspondence is found and all edges are processed\n",
    "        while processed < int(len(edge_list)/2):\n",
    "\n",
    "            node_to_process = n_nodes[-1][processed]\n",
    "\n",
    "            for i in range(int(len(edge_list)/2)):\n",
    "                # for every two corresponding edges \n",
    "                (y11, m1, y12) = edge_list[2*i]\n",
    "                (y21, m2, y22) = edge_list[2*i+1]\n",
    "\n",
    "                if (y12 == node_to_process):\n",
    "                    # add nodes \n",
    "                    nodes_layer.append(y11)\n",
    "                    nodes_layer.append(y21)\n",
    "\n",
    "                    # add edges \n",
    "                    edges_layer.append(m1)\n",
    "                    edges_layer.append(m2)\n",
    "\n",
    "                    # increment processed \n",
    "                    processed = processed + 1\n",
    "        \n",
    "        n_nodes.append(nodes_layer)\n",
    "        n_edges.append(edges_layer)\n",
    "\n",
    "    # reverse\n",
    "    n_nodes.reverse()\n",
    "    n_edges.reverse()\n",
    "    return n_nodes, n_edges\n",
    "\n",
    "nodes, edges = translate_diamond(edges)"
   ]
  },
  {
   "cell_type": "code",
   "execution_count": 66,
   "id": "bb4e3ccf",
   "metadata": {},
   "outputs": [
    {
     "name": "stdout",
     "output_type": "stream",
     "text": [
      "\n",
      "1000    1110    \n",
      "1001    0011    \n",
      "    1110            "
     ]
    }
   ],
   "source": [
    "print_diamond(nodes, edges)"
   ]
  },
  {
   "cell_type": "code",
   "execution_count": 67,
   "id": "6609448c",
   "metadata": {},
   "outputs": [
    {
     "name": "stdout",
     "output_type": "stream",
     "text": [
      "Step 1 | Construct diamond of hash values.\n",
      "qconstruct_diamond | Sampling 2^1 bitstrings.\n",
      "qconstruct_diamond | Starting loop 0/0.\n",
      "qconstruct_diamond | Creating up to 2^2 new hash values for the diamond values in the current layer.\n",
      "qconstruct_diamond | Need 4 more hash values.\n",
      "qfind_collision | Hash-Samples: {0: [BitArray('0x6'), BitArray('0x2'), BitArray('0x4'), BitArray('0xe')]}\n",
      "Grover's algorithm | Starting Grover try 1 with repeats=1.\n",
      "Grover's algorithm | Finishing Grover try 1, found m=1010.\n",
      "qfind_collision | H(1010)=0110\n",
      "qfind_collision | The collision corresponds to the node 1101 at index 0 with message 1000.\n",
      "Step 2 | Return hash of root of diamond and precalculated length padding: 1101.\n"
     ]
    }
   ],
   "source": [
    "def improved_qnostradamus_attack_precalc(k = -1):\n",
    "    \"\"\"Improved implementation of the quantum Nostradamus attack precalculation. \n",
    "    Args:\n",
    "        k (int): size of the diamond\n",
    "    Returns:\n",
    "        nodes (List of Lists of BitArrays): Nodes in the diamond.\n",
    "        edges (List of List of BitArrays): Edges in the diamond. \n",
    "        root (BitArray): root of diamond or hash of root of diamond and precalculated length padding.\n",
    "    \"\"\"\n",
    "    # init eval parameters\n",
    "    ghost_init()\n",
    "\n",
    "    if k==-1:\n",
    "        k = ceil(n/7)\n",
    "\n",
    "    # time measurment \n",
    "    global ghost_pre_time\n",
    "    ghost_pre_time = time.time()\n",
    "\n",
    "    print(\"Step 1 | Construct diamond of hash values.\")\n",
    "    edges = improved_qconstruct_diamond(k)\n",
    "    nodes, edges = translate_diamond(edges)\n",
    "    \n",
    "    root = nodes[-1][0]\n",
    "    if len_pad:\n",
    "        root = precalculate_hash(P, root, k+1)\n",
    "        print(\"Step 2 | Return hash of root of diamond and precalculated length padding: {}.\".format(root.bin))\n",
    "    else:\n",
    "         print(\"Step 2 | Return root of diamond: {}.\".format(root.bin))\n",
    "        \n",
    "\n",
    "    # time measurment\n",
    "    ghost_pre_time = time.time() - ghost_pre_time\n",
    "\n",
    "    return nodes, edges, root\n",
    "\n",
    "# application\n",
    "nodes, edges, root = improved_qnostradamus_attack_precalc(1)"
   ]
  },
  {
   "cell_type": "code",
   "execution_count": 68,
   "id": "9f6f9038",
   "metadata": {},
   "outputs": [
    {
     "name": "stdout",
     "output_type": "stream",
     "text": [
      "\n",
      "0011    1101    \n",
      "1010    1000    \n",
      "    0110            "
     ]
    }
   ],
   "source": [
    "print_diamond(nodes, edges)"
   ]
  },
  {
   "cell_type": "markdown",
   "id": "d1795608",
   "metadata": {},
   "source": [
    "## 4. Evaluation"
   ]
  },
  {
   "cell_type": "code",
   "execution_count": 74,
   "id": "c238fd2d",
   "metadata": {},
   "outputs": [],
   "source": [
    "# evaluation constants for manipulating the toy hash function\n",
    "\n",
    "# size of a message and hash function (also B)\n",
    "# n % 2 == 0 && n >= 6\n",
    "n = 8\n",
    "\n",
    "# number of loops for each round function\n",
    "r = 10\n",
    "\n",
    "# register length \n",
    "reg_len = int(n/2)\n",
    "\n",
    "# length padding \n",
    "len_pad = True\n",
    "\n",
    "# the prophecy\n",
    "P = BitArray(bin='100000001110010101010111')"
   ]
  },
  {
   "cell_type": "code",
   "execution_count": 76,
   "id": "d4ba4274",
   "metadata": {},
   "outputs": [],
   "source": [
    "# update toy hash function\n",
    "qr_gate, _ = construct_qr_gate(reg_len)\n",
    "round_gate, _ = construct_round_gate(n, reg_len)\n",
    "hash_gate, _ = construct_hash_gate(n, reg_len)"
   ]
  },
  {
   "cell_type": "markdown",
   "id": "5658ad58",
   "metadata": {},
   "source": [
    "### 4.1 Quantum Nostradamus Attack"
   ]
  },
  {
   "cell_type": "code",
   "execution_count": 77,
   "id": "c0af24f8",
   "metadata": {},
   "outputs": [
    {
     "name": "stdout",
     "output_type": "stream",
     "text": [
      "Step 1 | Construct diamond of hash values.\n",
      "qconstruct_diamond | Sampling 2^1 bitstrings.\n",
      "qconstruct_diamond | Starting loop 0/0.\n",
      "qconstruct_diamond | Finding collision between 00101011 and 01101001 with qfind_collision.\n",
      "qfind_collision | Hash-Samples: ['00000111', '10111100', '11110111', '10011011', '11000101', '11001001', '01111001', '00100000']\n",
      "Grover's algorithm | Starting Grover try 1 with repeats=3.\n",
      "Grover's algorithm | Finishing Grover try 1, found m=00110101.\n",
      "qfind_collision | H(00110101)=10011011\n",
      "Step 2 | Return hash of root of diamond and precalculated length padding: 10010110.\n"
     ]
    }
   ],
   "source": [
    "# attack pre-calc\n",
    "nodes, edges, root = qnostradamus_attack_precalc(1)"
   ]
  },
  {
   "cell_type": "code",
   "execution_count": 78,
   "id": "28da80f2",
   "metadata": {},
   "outputs": [
    {
     "name": "stdout",
     "output_type": "stream",
     "text": [
      "\n",
      "00101011        01101001        \n",
      "00000100        00110101        \n",
      "        10011011                        "
     ]
    }
   ],
   "source": [
    "print_diamond(nodes, edges)"
   ]
  },
  {
   "cell_type": "code",
   "execution_count": 79,
   "id": "b7260d01",
   "metadata": {},
   "outputs": [
    {
     "name": "stdout",
     "output_type": "stream",
     "text": [
      "Step 3 | Find connection message.\n",
      "qfind_connection | P filled with zeros: 100000001110010101010111\n",
      "qfind_connection | Last h-Evaluation of P calculated p = 00110110\n",
      "qfind_connection | Starting Grover's algorithm to find a preimage mcon such that chash_round(mcon, p) = yi.\n",
      "Grover's algorithm | Starting Grover try 1 with repeats=8.\n",
      "Grover's algorithm | Finishing Grover try 1, found m=00111000.\n",
      "Step 3 | Found mcon=00111000.\n",
      "Step 4 | Constructing the final prophecy.\n",
      "Step 4 | Current edge through diamond=00000100 (Layer 0, Index 0).\n"
     ]
    }
   ],
   "source": [
    "# attack after-calc\n",
    "P_new = qnostradamus_attack_aftercalc(P, nodes, edges)"
   ]
  },
  {
   "cell_type": "code",
   "execution_count": 80,
   "id": "e0150e36",
   "metadata": {},
   "outputs": [
    {
     "name": "stdout",
     "output_type": "stream",
     "text": [
      "In the previous attack:\n",
      "A hash function with size n=8 and B=8 was attacked.\n",
      "The pre calculation took 95.03278303146362 seconds.\n",
      "The after calculation took 245.63670206069946 seconds.\n",
      "Therefore the total took 340.6694850921631 seconds.\n",
      "17 classical round function calls were required.\n",
      "0 quantum round function calls were required.\n",
      "3 quantum function calls to F_collision were required.\n",
      "8 quantum function calls to F_connection were required.\n",
      "0 Grover repitions were required.\n",
      "10 Values were sampled.\n"
     ]
    }
   ],
   "source": [
    "# evaluation\n",
    "print_ghost_variables()"
   ]
  },
  {
   "cell_type": "code",
   "execution_count": 81,
   "id": "1afc8e47",
   "metadata": {},
   "outputs": [
    {
     "data": {
      "text/plain": [
       "True"
      ]
     },
     "execution_count": 81,
     "metadata": {},
     "output_type": "execute_result"
    }
   ],
   "source": [
    "# check\n",
    "H = chash(P_new, length_padding=len_pad)\n",
    "H == root"
   ]
  },
  {
   "cell_type": "markdown",
   "id": "d1769c38",
   "metadata": {},
   "source": [
    "### 4.2 Grover Attack"
   ]
  },
  {
   "cell_type": "code",
   "execution_count": 82,
   "id": "b3a195b1",
   "metadata": {},
   "outputs": [
    {
     "name": "stdout",
     "output_type": "stream",
     "text": [
      "Step 0 | Starting Grover Attack for P = 100000001110010101010111 and H = 10010110\n",
      "Step 1 | P filled with zeros: 100000001110010101010111\n",
      "Step 2 | Last h-Evaluation of P calculated p = 00110110\n",
      "Step 3 | Starting Grover's algorithm to find a preimage m such that chash_round(m, p) = H\n",
      "Grover's algorithm | Starting Grover try 1 with repeats=12.\n",
      "Grover's algorithm | Finishing Grover try 1, found m=11111010.\n",
      "Step 3 | Grover returns m = 11111010\n"
     ]
    }
   ],
   "source": [
    "# attack after-calc\n",
    "P, m = grover_attack(P, root)"
   ]
  },
  {
   "cell_type": "code",
   "execution_count": 83,
   "id": "f6f65ed6",
   "metadata": {},
   "outputs": [
    {
     "name": "stdout",
     "output_type": "stream",
     "text": [
      "In the previous attack:\n",
      "A hash function with size n=8 and B=8 was attacked.\n",
      "The pre calculation took 0 seconds.\n",
      "The after calculation took 175.21015286445618 seconds.\n",
      "Therefore the total took 175.21015286445618 seconds.\n",
      "5 classical round function calls were required.\n",
      "12 quantum round function calls were required.\n",
      "0 quantum function calls to F_collision were required.\n",
      "0 quantum function calls to F_connection were required.\n",
      "0 Grover repitions were required.\n",
      "0 Values were sampled.\n"
     ]
    }
   ],
   "source": [
    "# evaluation\n",
    "print_ghost_variables()"
   ]
  },
  {
   "cell_type": "code",
   "execution_count": 84,
   "id": "85b1a7cf",
   "metadata": {},
   "outputs": [
    {
     "data": {
      "text/plain": [
       "True"
      ]
     },
     "execution_count": 84,
     "metadata": {},
     "output_type": "execute_result"
    }
   ],
   "source": [
    "# check\n",
    "bin_in = P + m\n",
    "H = chash(bin_in, length_padding=False)\n",
    "H == root"
   ]
  },
  {
   "cell_type": "markdown",
   "id": "29914111",
   "metadata": {},
   "source": [
    "### 4.1 Improved Quantum Nostradamus Attack"
   ]
  },
  {
   "cell_type": "code",
   "execution_count": 85,
   "id": "4167be8e",
   "metadata": {},
   "outputs": [
    {
     "name": "stdout",
     "output_type": "stream",
     "text": [
      "Step 1 | Construct diamond of hash values.\n",
      "qconstruct_diamond | Sampling 2^2 bitstrings.\n",
      "qconstruct_diamond | Starting loop 0/1.\n",
      "qconstruct_diamond | Creating up to 2^4 new hash values for the diamond values in the current layer.\n",
      "qconstruct_diamond | Need 16 more hash values.\n",
      "qfind_collision | Hash-Samples: {0: [BitArray('0x21'), BitArray('0x9b'), BitArray('0x1c'), BitArray('0x3f'), BitArray('0xfa'), BitArray('0xbe'), BitArray('0xe5'), BitArray('0x40')], 1: [BitArray('0xc6'), BitArray('0xd1'), BitArray('0xbc'), BitArray('0xb6'), BitArray('0xb8'), BitArray('0x7a'), BitArray('0xa5'), BitArray('0x8a')]}\n",
      "Grover's algorithm | Starting Grover try 1 with repeats=2.\n",
      "Grover's algorithm | Finishing Grover try 1, found m=10101101.\n",
      "qfind_collision | H(10101101)=00111111\n",
      "qfind_collision | The collision corresponds to the node 11000000 at index 0 with message 11100010.\n",
      "qconstruct_diamond | Creating up to 2^4 new hash values for the diamond values in the current layer.\n",
      "qconstruct_diamond | Need 8 more hash values.\n",
      "qfind_collision | Hash-Samples: {0: -1, 1: [BitArray('0xc6'), BitArray('0xd1'), BitArray('0xbc'), BitArray('0xb6'), BitArray('0xb8'), BitArray('0x7a'), BitArray('0xa5'), BitArray('0x8a'), BitArray('0x0f'), BitArray('0xdc'), BitArray('0x05'), BitArray('0x79'), BitArray('0x6f'), BitArray('0x42'), BitArray('0x10'), BitArray('0x48')]}\n",
      "Grover's algorithm | Starting Grover try 1 with repeats=2.\n",
      "Grover's algorithm | Finishing Grover try 1, found m=10110100.\n",
      "qfind_collision | H(10110100)=11011100\n",
      "qfind_collision | The collision corresponds to the node 00110010 at index 1 with message 01011100.\n",
      "qconstruct_diamond | Starting loop 1/1.\n",
      "qconstruct_diamond | Creating up to 2^4 new hash values for the diamond values in the current layer.\n",
      "qconstruct_diamond | Need 16 more hash values.\n",
      "qfind_collision | Hash-Samples: {0: [BitArray('0x45'), BitArray('0x0b'), BitArray('0x9a'), BitArray('0xd9'), BitArray('0xd0'), BitArray('0x52'), BitArray('0xb0'), BitArray('0xfe'), BitArray('0xa0'), BitArray('0x96'), BitArray('0x4c'), BitArray('0x75'), BitArray('0x29'), BitArray('0xdc'), BitArray('0x06'), BitArray('0x36')]}\n",
      "Grover's algorithm | Starting Grover try 1 with repeats=2.\n",
      "Grover's algorithm | Finishing Grover try 1, found m=11110000.\n",
      "qfind_collision | H(11110000)=01110101\n",
      "qfind_collision | The collision corresponds to the node 00111111 at index 0 with message 01001000.\n",
      "Step 2 | Return hash of root of diamond and precalculated length padding: 11110110.\n"
     ]
    }
   ],
   "source": [
    "# attack pre-calc\n",
    "nodes, edges, root = improved_qnostradamus_attack_precalc(2)"
   ]
  },
  {
   "cell_type": "code",
   "execution_count": 86,
   "id": "46c6fd71",
   "metadata": {},
   "outputs": [
    {
     "name": "stdout",
     "output_type": "stream",
     "text": [
      "\n",
      "10000100        00110010        10100101        11000000        \n",
      "10110100        01011100        10101101        11100010        \n",
      "        11011100                        00111111                        \n",
      "        11110000                        01001000                        \n",
      "                        01110101                                                        "
     ]
    }
   ],
   "source": [
    "print_diamond(nodes, edges)"
   ]
  },
  {
   "cell_type": "code",
   "execution_count": 87,
   "id": "5a7d3e3a",
   "metadata": {},
   "outputs": [
    {
     "name": "stdout",
     "output_type": "stream",
     "text": [
      "Step 3 | Find connection message.\n",
      "qfind_connection | P filled with zeros: 100000001110010101010111\n",
      "qfind_connection | Last h-Evaluation of P calculated p = 00110110\n",
      "qfind_connection | Starting Grover's algorithm to find a preimage mcon such that chash_round(mcon, p) = yi.\n",
      "Grover's algorithm | Starting Grover try 1 with repeats=5.\n",
      "Grover's algorithm | Finishing Grover try 1, found m=01010100.\n",
      "Step 3 | Found mcon=01010100.\n",
      "Step 4 | Constructing the final prophecy.\n",
      "Step 4 | Current edge through diamond=01011100 (Layer 0, Index 1).\n",
      "Step 4 | Current edge through diamond=11110000 (Layer 1, Index 0).\n"
     ]
    }
   ],
   "source": [
    "# attack after-calc\n",
    "P_new = qnostradamus_attack_aftercalc(P, nodes, edges)"
   ]
  },
  {
   "cell_type": "code",
   "execution_count": 88,
   "id": "00cd8e3f",
   "metadata": {},
   "outputs": [
    {
     "name": "stdout",
     "output_type": "stream",
     "text": [
      "In the previous attack:\n",
      "A hash function with size n=8 and B=8 was attacked.\n",
      "The pre calculation took 226.97942876815796 seconds.\n",
      "The after calculation took 175.4343798160553 seconds.\n",
      "Therefore the total took 402.41380858421326 seconds.\n",
      "57 classical round function calls were required.\n",
      "0 quantum round function calls were required.\n",
      "6 quantum function calls to F_collision were required.\n",
      "5 quantum function calls to F_connection were required.\n",
      "0 Grover repitions were required.\n",
      "48 Values were sampled.\n"
     ]
    }
   ],
   "source": [
    "# evaluation\n",
    "print_ghost_variables()"
   ]
  },
  {
   "cell_type": "code",
   "execution_count": 89,
   "id": "33c1024b",
   "metadata": {},
   "outputs": [
    {
     "data": {
      "text/plain": [
       "True"
      ]
     },
     "execution_count": 89,
     "metadata": {},
     "output_type": "execute_result"
    }
   ],
   "source": [
    "# check\n",
    "H = chash(P_new, length_padding=len_pad)\n",
    "H == root"
   ]
  }
 ],
 "metadata": {
  "interpreter": {
   "hash": "d84289f77d5e0996b02bf56ce003d79cc197a189e78dd16c761c82bd3d181856"
  },
  "kernelspec": {
   "display_name": "Python 3.10.4 ('qnostra')",
   "language": "python",
   "name": "python3"
  },
  "language_info": {
   "codemirror_mode": {
    "name": "ipython",
    "version": 3
   },
   "file_extension": ".py",
   "mimetype": "text/x-python",
   "name": "python",
   "nbconvert_exporter": "python",
   "pygments_lexer": "ipython3",
   "version": "3.10.4"
  }
 },
 "nbformat": 4,
 "nbformat_minor": 5
}
